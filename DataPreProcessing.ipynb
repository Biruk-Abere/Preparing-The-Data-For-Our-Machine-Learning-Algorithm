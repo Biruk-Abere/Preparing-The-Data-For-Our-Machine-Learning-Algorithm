{
 "cells": [
  {
   "cell_type": "markdown",
   "metadata": {},
   "source": [
    "# Imporitng Dependencies"
   ]
  },
  {
   "cell_type": "code",
   "execution_count": 22,
   "metadata": {},
   "outputs": [
    {
     "name": "stderr",
     "output_type": "stream",
     "text": [
      "UsageError: unrecognized arguments: # appear on the notebook\n"
     ]
    }
   ],
   "source": [
    "import matplotlib.pyplot as plt\n",
    "import pandas as pd\n",
    "import numpy as np\n",
    "import seaborn as sns\n",
    "%matplotlib inline # appear on the notebook"
   ]
  },
  {
   "cell_type": "code",
   "execution_count": 12,
   "metadata": {},
   "outputs": [],
   "source": [
    "# Get the data\n",
    "housing=pd.read_csv('housing.csv' , index_col = None)"
   ]
  },
  {
   "cell_type": "markdown",
   "metadata": {},
   "source": [
    "# Taking A Quick Look To The DataStructure"
   ]
  },
  {
   "cell_type": "code",
   "execution_count": 13,
   "metadata": {
    "scrolled": true
   },
   "outputs": [
    {
     "data": {
      "text/html": [
       "<div>\n",
       "<style scoped>\n",
       "    .dataframe tbody tr th:only-of-type {\n",
       "        vertical-align: middle;\n",
       "    }\n",
       "\n",
       "    .dataframe tbody tr th {\n",
       "        vertical-align: top;\n",
       "    }\n",
       "\n",
       "    .dataframe thead th {\n",
       "        text-align: right;\n",
       "    }\n",
       "</style>\n",
       "<table border=\"1\" class=\"dataframe\">\n",
       "  <thead>\n",
       "    <tr style=\"text-align: right;\">\n",
       "      <th></th>\n",
       "      <th>longitude</th>\n",
       "      <th>latitude</th>\n",
       "      <th>housing_median_age</th>\n",
       "      <th>total_rooms</th>\n",
       "      <th>total_bedrooms</th>\n",
       "      <th>population</th>\n",
       "      <th>households</th>\n",
       "      <th>median_income</th>\n",
       "      <th>median_house_value</th>\n",
       "      <th>ocean_proximity</th>\n",
       "    </tr>\n",
       "  </thead>\n",
       "  <tbody>\n",
       "    <tr>\n",
       "      <td>0</td>\n",
       "      <td>-122.23</td>\n",
       "      <td>37.88</td>\n",
       "      <td>41.0</td>\n",
       "      <td>880.0</td>\n",
       "      <td>129.0</td>\n",
       "      <td>322.0</td>\n",
       "      <td>126.0</td>\n",
       "      <td>8.3252</td>\n",
       "      <td>452600.0</td>\n",
       "      <td>NEAR BAY</td>\n",
       "    </tr>\n",
       "    <tr>\n",
       "      <td>1</td>\n",
       "      <td>-122.22</td>\n",
       "      <td>37.86</td>\n",
       "      <td>21.0</td>\n",
       "      <td>7099.0</td>\n",
       "      <td>1106.0</td>\n",
       "      <td>2401.0</td>\n",
       "      <td>1138.0</td>\n",
       "      <td>8.3014</td>\n",
       "      <td>358500.0</td>\n",
       "      <td>NEAR BAY</td>\n",
       "    </tr>\n",
       "    <tr>\n",
       "      <td>2</td>\n",
       "      <td>-122.24</td>\n",
       "      <td>37.85</td>\n",
       "      <td>52.0</td>\n",
       "      <td>1467.0</td>\n",
       "      <td>190.0</td>\n",
       "      <td>496.0</td>\n",
       "      <td>177.0</td>\n",
       "      <td>7.2574</td>\n",
       "      <td>352100.0</td>\n",
       "      <td>NEAR BAY</td>\n",
       "    </tr>\n",
       "    <tr>\n",
       "      <td>3</td>\n",
       "      <td>-122.25</td>\n",
       "      <td>37.85</td>\n",
       "      <td>52.0</td>\n",
       "      <td>1274.0</td>\n",
       "      <td>235.0</td>\n",
       "      <td>558.0</td>\n",
       "      <td>219.0</td>\n",
       "      <td>5.6431</td>\n",
       "      <td>341300.0</td>\n",
       "      <td>NEAR BAY</td>\n",
       "    </tr>\n",
       "    <tr>\n",
       "      <td>4</td>\n",
       "      <td>-122.25</td>\n",
       "      <td>37.85</td>\n",
       "      <td>52.0</td>\n",
       "      <td>1627.0</td>\n",
       "      <td>280.0</td>\n",
       "      <td>565.0</td>\n",
       "      <td>259.0</td>\n",
       "      <td>3.8462</td>\n",
       "      <td>342200.0</td>\n",
       "      <td>NEAR BAY</td>\n",
       "    </tr>\n",
       "  </tbody>\n",
       "</table>\n",
       "</div>"
      ],
      "text/plain": [
       "   longitude  latitude  housing_median_age  total_rooms  total_bedrooms  \\\n",
       "0    -122.23     37.88                41.0        880.0           129.0   \n",
       "1    -122.22     37.86                21.0       7099.0          1106.0   \n",
       "2    -122.24     37.85                52.0       1467.0           190.0   \n",
       "3    -122.25     37.85                52.0       1274.0           235.0   \n",
       "4    -122.25     37.85                52.0       1627.0           280.0   \n",
       "\n",
       "   population  households  median_income  median_house_value ocean_proximity  \n",
       "0       322.0       126.0         8.3252            452600.0        NEAR BAY  \n",
       "1      2401.0      1138.0         8.3014            358500.0        NEAR BAY  \n",
       "2       496.0       177.0         7.2574            352100.0        NEAR BAY  \n",
       "3       558.0       219.0         5.6431            341300.0        NEAR BAY  \n",
       "4       565.0       259.0         3.8462            342200.0        NEAR BAY  "
      ]
     },
     "execution_count": 13,
     "metadata": {},
     "output_type": "execute_result"
    }
   ],
   "source": [
    "housing.head()"
   ]
  },
  {
   "cell_type": "code",
   "execution_count": 14,
   "metadata": {},
   "outputs": [
    {
     "data": {
      "text/html": [
       "<div>\n",
       "<style scoped>\n",
       "    .dataframe tbody tr th:only-of-type {\n",
       "        vertical-align: middle;\n",
       "    }\n",
       "\n",
       "    .dataframe tbody tr th {\n",
       "        vertical-align: top;\n",
       "    }\n",
       "\n",
       "    .dataframe thead th {\n",
       "        text-align: right;\n",
       "    }\n",
       "</style>\n",
       "<table border=\"1\" class=\"dataframe\">\n",
       "  <thead>\n",
       "    <tr style=\"text-align: right;\">\n",
       "      <th></th>\n",
       "      <th>longitude</th>\n",
       "      <th>latitude</th>\n",
       "      <th>housing_median_age</th>\n",
       "      <th>total_rooms</th>\n",
       "      <th>total_bedrooms</th>\n",
       "      <th>population</th>\n",
       "      <th>households</th>\n",
       "      <th>median_income</th>\n",
       "      <th>median_house_value</th>\n",
       "      <th>ocean_proximity</th>\n",
       "    </tr>\n",
       "  </thead>\n",
       "  <tbody>\n",
       "    <tr>\n",
       "      <td>20635</td>\n",
       "      <td>-121.09</td>\n",
       "      <td>39.48</td>\n",
       "      <td>25.0</td>\n",
       "      <td>1665.0</td>\n",
       "      <td>374.0</td>\n",
       "      <td>845.0</td>\n",
       "      <td>330.0</td>\n",
       "      <td>1.5603</td>\n",
       "      <td>78100.0</td>\n",
       "      <td>INLAND</td>\n",
       "    </tr>\n",
       "    <tr>\n",
       "      <td>20636</td>\n",
       "      <td>-121.21</td>\n",
       "      <td>39.49</td>\n",
       "      <td>18.0</td>\n",
       "      <td>697.0</td>\n",
       "      <td>150.0</td>\n",
       "      <td>356.0</td>\n",
       "      <td>114.0</td>\n",
       "      <td>2.5568</td>\n",
       "      <td>77100.0</td>\n",
       "      <td>INLAND</td>\n",
       "    </tr>\n",
       "    <tr>\n",
       "      <td>20637</td>\n",
       "      <td>-121.22</td>\n",
       "      <td>39.43</td>\n",
       "      <td>17.0</td>\n",
       "      <td>2254.0</td>\n",
       "      <td>485.0</td>\n",
       "      <td>1007.0</td>\n",
       "      <td>433.0</td>\n",
       "      <td>1.7000</td>\n",
       "      <td>92300.0</td>\n",
       "      <td>INLAND</td>\n",
       "    </tr>\n",
       "    <tr>\n",
       "      <td>20638</td>\n",
       "      <td>-121.32</td>\n",
       "      <td>39.43</td>\n",
       "      <td>18.0</td>\n",
       "      <td>1860.0</td>\n",
       "      <td>409.0</td>\n",
       "      <td>741.0</td>\n",
       "      <td>349.0</td>\n",
       "      <td>1.8672</td>\n",
       "      <td>84700.0</td>\n",
       "      <td>INLAND</td>\n",
       "    </tr>\n",
       "    <tr>\n",
       "      <td>20639</td>\n",
       "      <td>-121.24</td>\n",
       "      <td>39.37</td>\n",
       "      <td>16.0</td>\n",
       "      <td>2785.0</td>\n",
       "      <td>616.0</td>\n",
       "      <td>1387.0</td>\n",
       "      <td>530.0</td>\n",
       "      <td>2.3886</td>\n",
       "      <td>89400.0</td>\n",
       "      <td>INLAND</td>\n",
       "    </tr>\n",
       "  </tbody>\n",
       "</table>\n",
       "</div>"
      ],
      "text/plain": [
       "       longitude  latitude  housing_median_age  total_rooms  total_bedrooms  \\\n",
       "20635    -121.09     39.48                25.0       1665.0           374.0   \n",
       "20636    -121.21     39.49                18.0        697.0           150.0   \n",
       "20637    -121.22     39.43                17.0       2254.0           485.0   \n",
       "20638    -121.32     39.43                18.0       1860.0           409.0   \n",
       "20639    -121.24     39.37                16.0       2785.0           616.0   \n",
       "\n",
       "       population  households  median_income  median_house_value  \\\n",
       "20635       845.0       330.0         1.5603             78100.0   \n",
       "20636       356.0       114.0         2.5568             77100.0   \n",
       "20637      1007.0       433.0         1.7000             92300.0   \n",
       "20638       741.0       349.0         1.8672             84700.0   \n",
       "20639      1387.0       530.0         2.3886             89400.0   \n",
       "\n",
       "      ocean_proximity  \n",
       "20635          INLAND  \n",
       "20636          INLAND  \n",
       "20637          INLAND  \n",
       "20638          INLAND  \n",
       "20639          INLAND  "
      ]
     },
     "execution_count": 14,
     "metadata": {},
     "output_type": "execute_result"
    }
   ],
   "source": [
    "housing.tail()"
   ]
  },
  {
   "cell_type": "code",
   "execution_count": 15,
   "metadata": {},
   "outputs": [
    {
     "name": "stdout",
     "output_type": "stream",
     "text": [
      "<class 'pandas.core.frame.DataFrame'>\n",
      "RangeIndex: 20640 entries, 0 to 20639\n",
      "Data columns (total 10 columns):\n",
      "longitude             20640 non-null float64\n",
      "latitude              20640 non-null float64\n",
      "housing_median_age    20640 non-null float64\n",
      "total_rooms           20640 non-null float64\n",
      "total_bedrooms        20433 non-null float64\n",
      "population            20640 non-null float64\n",
      "households            20640 non-null float64\n",
      "median_income         20640 non-null float64\n",
      "median_house_value    20640 non-null float64\n",
      "ocean_proximity       20640 non-null object\n",
      "dtypes: float64(9), object(1)\n",
      "memory usage: 1.6+ MB\n"
     ]
    }
   ],
   "source": [
    "housing.info()"
   ]
  },
  {
   "cell_type": "code",
   "execution_count": 16,
   "metadata": {},
   "outputs": [
    {
     "data": {
      "text/html": [
       "<div>\n",
       "<style scoped>\n",
       "    .dataframe tbody tr th:only-of-type {\n",
       "        vertical-align: middle;\n",
       "    }\n",
       "\n",
       "    .dataframe tbody tr th {\n",
       "        vertical-align: top;\n",
       "    }\n",
       "\n",
       "    .dataframe thead th {\n",
       "        text-align: right;\n",
       "    }\n",
       "</style>\n",
       "<table border=\"1\" class=\"dataframe\">\n",
       "  <thead>\n",
       "    <tr style=\"text-align: right;\">\n",
       "      <th></th>\n",
       "      <th>longitude</th>\n",
       "      <th>latitude</th>\n",
       "      <th>housing_median_age</th>\n",
       "      <th>total_rooms</th>\n",
       "      <th>total_bedrooms</th>\n",
       "      <th>population</th>\n",
       "      <th>households</th>\n",
       "      <th>median_income</th>\n",
       "      <th>median_house_value</th>\n",
       "    </tr>\n",
       "  </thead>\n",
       "  <tbody>\n",
       "    <tr>\n",
       "      <td>count</td>\n",
       "      <td>20640.000000</td>\n",
       "      <td>20640.000000</td>\n",
       "      <td>20640.000000</td>\n",
       "      <td>20640.000000</td>\n",
       "      <td>20433.000000</td>\n",
       "      <td>20640.000000</td>\n",
       "      <td>20640.000000</td>\n",
       "      <td>20640.000000</td>\n",
       "      <td>20640.000000</td>\n",
       "    </tr>\n",
       "    <tr>\n",
       "      <td>mean</td>\n",
       "      <td>-119.569704</td>\n",
       "      <td>35.631861</td>\n",
       "      <td>28.639486</td>\n",
       "      <td>2635.763081</td>\n",
       "      <td>537.870553</td>\n",
       "      <td>1425.476744</td>\n",
       "      <td>499.539680</td>\n",
       "      <td>3.870671</td>\n",
       "      <td>206855.816909</td>\n",
       "    </tr>\n",
       "    <tr>\n",
       "      <td>std</td>\n",
       "      <td>2.003532</td>\n",
       "      <td>2.135952</td>\n",
       "      <td>12.585558</td>\n",
       "      <td>2181.615252</td>\n",
       "      <td>421.385070</td>\n",
       "      <td>1132.462122</td>\n",
       "      <td>382.329753</td>\n",
       "      <td>1.899822</td>\n",
       "      <td>115395.615874</td>\n",
       "    </tr>\n",
       "    <tr>\n",
       "      <td>min</td>\n",
       "      <td>-124.350000</td>\n",
       "      <td>32.540000</td>\n",
       "      <td>1.000000</td>\n",
       "      <td>2.000000</td>\n",
       "      <td>1.000000</td>\n",
       "      <td>3.000000</td>\n",
       "      <td>1.000000</td>\n",
       "      <td>0.499900</td>\n",
       "      <td>14999.000000</td>\n",
       "    </tr>\n",
       "    <tr>\n",
       "      <td>25%</td>\n",
       "      <td>-121.800000</td>\n",
       "      <td>33.930000</td>\n",
       "      <td>18.000000</td>\n",
       "      <td>1447.750000</td>\n",
       "      <td>296.000000</td>\n",
       "      <td>787.000000</td>\n",
       "      <td>280.000000</td>\n",
       "      <td>2.563400</td>\n",
       "      <td>119600.000000</td>\n",
       "    </tr>\n",
       "    <tr>\n",
       "      <td>50%</td>\n",
       "      <td>-118.490000</td>\n",
       "      <td>34.260000</td>\n",
       "      <td>29.000000</td>\n",
       "      <td>2127.000000</td>\n",
       "      <td>435.000000</td>\n",
       "      <td>1166.000000</td>\n",
       "      <td>409.000000</td>\n",
       "      <td>3.534800</td>\n",
       "      <td>179700.000000</td>\n",
       "    </tr>\n",
       "    <tr>\n",
       "      <td>75%</td>\n",
       "      <td>-118.010000</td>\n",
       "      <td>37.710000</td>\n",
       "      <td>37.000000</td>\n",
       "      <td>3148.000000</td>\n",
       "      <td>647.000000</td>\n",
       "      <td>1725.000000</td>\n",
       "      <td>605.000000</td>\n",
       "      <td>4.743250</td>\n",
       "      <td>264725.000000</td>\n",
       "    </tr>\n",
       "    <tr>\n",
       "      <td>max</td>\n",
       "      <td>-114.310000</td>\n",
       "      <td>41.950000</td>\n",
       "      <td>52.000000</td>\n",
       "      <td>39320.000000</td>\n",
       "      <td>6445.000000</td>\n",
       "      <td>35682.000000</td>\n",
       "      <td>6082.000000</td>\n",
       "      <td>15.000100</td>\n",
       "      <td>500001.000000</td>\n",
       "    </tr>\n",
       "  </tbody>\n",
       "</table>\n",
       "</div>"
      ],
      "text/plain": [
       "          longitude      latitude  housing_median_age   total_rooms  \\\n",
       "count  20640.000000  20640.000000        20640.000000  20640.000000   \n",
       "mean    -119.569704     35.631861           28.639486   2635.763081   \n",
       "std        2.003532      2.135952           12.585558   2181.615252   \n",
       "min     -124.350000     32.540000            1.000000      2.000000   \n",
       "25%     -121.800000     33.930000           18.000000   1447.750000   \n",
       "50%     -118.490000     34.260000           29.000000   2127.000000   \n",
       "75%     -118.010000     37.710000           37.000000   3148.000000   \n",
       "max     -114.310000     41.950000           52.000000  39320.000000   \n",
       "\n",
       "       total_bedrooms    population    households  median_income  \\\n",
       "count    20433.000000  20640.000000  20640.000000   20640.000000   \n",
       "mean       537.870553   1425.476744    499.539680       3.870671   \n",
       "std        421.385070   1132.462122    382.329753       1.899822   \n",
       "min          1.000000      3.000000      1.000000       0.499900   \n",
       "25%        296.000000    787.000000    280.000000       2.563400   \n",
       "50%        435.000000   1166.000000    409.000000       3.534800   \n",
       "75%        647.000000   1725.000000    605.000000       4.743250   \n",
       "max       6445.000000  35682.000000   6082.000000      15.000100   \n",
       "\n",
       "       median_house_value  \n",
       "count        20640.000000  \n",
       "mean        206855.816909  \n",
       "std         115395.615874  \n",
       "min          14999.000000  \n",
       "25%         119600.000000  \n",
       "50%         179700.000000  \n",
       "75%         264725.000000  \n",
       "max         500001.000000  "
      ]
     },
     "execution_count": 16,
     "metadata": {},
     "output_type": "execute_result"
    }
   ],
   "source": [
    "housing.describe()"
   ]
  },
  {
   "cell_type": "code",
   "execution_count": 17,
   "metadata": {
    "scrolled": true
   },
   "outputs": [
    {
     "data": {
      "text/plain": [
       "array([[<matplotlib.axes._subplots.AxesSubplot object at 0x000001F3C86D5B88>,\n",
       "        <matplotlib.axes._subplots.AxesSubplot object at 0x000001F3C8740108>,\n",
       "        <matplotlib.axes._subplots.AxesSubplot object at 0x000001F3C876EFC8>],\n",
       "       [<matplotlib.axes._subplots.AxesSubplot object at 0x000001F3C87AA1C8>,\n",
       "        <matplotlib.axes._subplots.AxesSubplot object at 0x000001F3C87DCA08>,\n",
       "        <matplotlib.axes._subplots.AxesSubplot object at 0x000001F3C8814288>],\n",
       "       [<matplotlib.axes._subplots.AxesSubplot object at 0x000001F3C8846AC8>,\n",
       "        <matplotlib.axes._subplots.AxesSubplot object at 0x000001F3C887C348>,\n",
       "        <matplotlib.axes._subplots.AxesSubplot object at 0x000001F3C89F6108>]],\n",
       "      dtype=object)"
      ]
     },
     "execution_count": 17,
     "metadata": {},
     "output_type": "execute_result"
    },
    {
     "data": {
      "image/png": "[encoded data removed]",
      "text/plain": [
       "<Figure size 1440x1080 with 9 Axes>"
      ]
     },
     "metadata": {
      "needs_background": "light"
     },
     "output_type": "display_data"
    }
   ],
   "source": [
    "# Using histogram to explore more each numerical attributes \n",
    "housing.hist(bins = 50 , figsize =(20,15) , edgecolor = 'black')"
   ]
  },
  {
   "cell_type": "markdown",
   "metadata": {},
   "source": [
    "# CORELATIONS"
   ]
  },
  {
   "cell_type": "code",
   "execution_count": 18,
   "metadata": {},
   "outputs": [
    {
     "data": {
      "text/plain": [
       "median_house_value    1.000000\n",
       "median_income         0.688075\n",
       "total_rooms           0.134153\n",
       "housing_median_age    0.105623\n",
       "households            0.065843\n",
       "total_bedrooms        0.049686\n",
       "population           -0.024650\n",
       "longitude            -0.045967\n",
       "latitude             -0.144160\n",
       "Name: median_house_value, dtype: float64"
      ]
     },
     "execution_count": 18,
     "metadata": {},
     "output_type": "execute_result"
    }
   ],
   "source": [
    "corr_matrix = housing.corr()\n",
    "corr_matrix['median_house_value'].sort_values(ascending = False)"
   ]
  },
  {
   "cell_type": "code",
   "execution_count": 20,
   "metadata": {
    "scrolled": true
   },
   "outputs": [
    {
     "data": {
      "text/plain": [
       "array([[<matplotlib.axes._subplots.AxesSubplot object at 0x000001F3CA8C8688>,\n",
       "        <matplotlib.axes._subplots.AxesSubplot object at 0x000001F3CCD64A48>,\n",
       "        <matplotlib.axes._subplots.AxesSubplot object at 0x000001F3CD06BC48>,\n",
       "        <matplotlib.axes._subplots.AxesSubplot object at 0x000001F3CD082188>,\n",
       "        <matplotlib.axes._subplots.AxesSubplot object at 0x000001F3CD1B89C8>,\n",
       "        <matplotlib.axes._subplots.AxesSubplot object at 0x000001F3CD1E63C8>,\n",
       "        <matplotlib.axes._subplots.AxesSubplot object at 0x000001F3CD2210C8>,\n",
       "        <matplotlib.axes._subplots.AxesSubplot object at 0x000001F3CD258208>,\n",
       "        <matplotlib.axes._subplots.AxesSubplot object at 0x000001F3CD260DC8>],\n",
       "       [<matplotlib.axes._subplots.AxesSubplot object at 0x000001F3CD296F88>,\n",
       "        <matplotlib.axes._subplots.AxesSubplot object at 0x000001F3CD302548>,\n",
       "        <matplotlib.axes._subplots.AxesSubplot object at 0x000001F3CD33B588>,\n",
       "        <matplotlib.axes._subplots.AxesSubplot object at 0x000001F3CD378E88>,\n",
       "        <matplotlib.axes._subplots.AxesSubplot object at 0x000001F3CD3AB7C8>,\n",
       "        <matplotlib.axes._subplots.AxesSubplot object at 0x000001F3CD3E58C8>,\n",
       "        <matplotlib.axes._subplots.AxesSubplot object at 0x000001F3CD41E9C8>,\n",
       "        <matplotlib.axes._subplots.AxesSubplot object at 0x000001F3CD458A88>,\n",
       "        <matplotlib.axes._subplots.AxesSubplot object at 0x000001F3CD490B88>],\n",
       "       [<matplotlib.axes._subplots.AxesSubplot object at 0x000001F3CD4C7C88>,\n",
       "        <matplotlib.axes._subplots.AxesSubplot object at 0x000001F3CD500DC8>,\n",
       "        <matplotlib.axes._subplots.AxesSubplot object at 0x000001F3CD539EC8>,\n",
       "        <matplotlib.axes._subplots.AxesSubplot object at 0x000001F3CD570F88>,\n",
       "        <matplotlib.axes._subplots.AxesSubplot object at 0x000001F3CD5AF108>,\n",
       "        <matplotlib.axes._subplots.AxesSubplot object at 0x000001F3CD5E8208>,\n",
       "        <matplotlib.axes._subplots.AxesSubplot object at 0x000001F3CD620308>,\n",
       "        <matplotlib.axes._subplots.AxesSubplot object at 0x000001F3CE629448>,\n",
       "        <matplotlib.axes._subplots.AxesSubplot object at 0x000001F3CE663548>],\n",
       "       [<matplotlib.axes._subplots.AxesSubplot object at 0x000001F3CE69C5C8>,\n",
       "        <matplotlib.axes._subplots.AxesSubplot object at 0x000001F3CE6D3708>,\n",
       "        <matplotlib.axes._subplots.AxesSubplot object at 0x000001F3CE70C848>,\n",
       "        <matplotlib.axes._subplots.AxesSubplot object at 0x000001F3CE745948>,\n",
       "        <matplotlib.axes._subplots.AxesSubplot object at 0x000001F3CE77FA48>,\n",
       "        <matplotlib.axes._subplots.AxesSubplot object at 0x000001F3CE7B7B08>,\n",
       "        <matplotlib.axes._subplots.AxesSubplot object at 0x000001F3CE7EFC08>,\n",
       "        <matplotlib.axes._subplots.AxesSubplot object at 0x000001F3CE827D08>,\n",
       "        <matplotlib.axes._subplots.AxesSubplot object at 0x000001F3CE861E48>],\n",
       "       [<matplotlib.axes._subplots.AxesSubplot object at 0x000001F3CE89AF48>,\n",
       "        <matplotlib.axes._subplots.AxesSubplot object at 0x000001F3CE8D3748>,\n",
       "        <matplotlib.axes._subplots.AxesSubplot object at 0x000001F3CE90A888>,\n",
       "        <matplotlib.axes._subplots.AxesSubplot object at 0x000001F3CE943988>,\n",
       "        <matplotlib.axes._subplots.AxesSubplot object at 0x000001F3CE97DA88>,\n",
       "        <matplotlib.axes._subplots.AxesSubplot object at 0x000001F3CE9B5BC8>,\n",
       "        <matplotlib.axes._subplots.AxesSubplot object at 0x000001F3CE9EDCC8>,\n",
       "        <matplotlib.axes._subplots.AxesSubplot object at 0x000001F3CEA26D48>,\n",
       "        <matplotlib.axes._subplots.AxesSubplot object at 0x000001F3CEA5EE88>],\n",
       "       [<matplotlib.axes._subplots.AxesSubplot object at 0x000001F3CEA95F88>,\n",
       "        <matplotlib.axes._subplots.AxesSubplot object at 0x000001F3CEAD40C8>,\n",
       "        <matplotlib.axes._subplots.AxesSubplot object at 0x000001F3CEB0D208>,\n",
       "        <matplotlib.axes._subplots.AxesSubplot object at 0x000001F3CEB46288>,\n",
       "        <matplotlib.axes._subplots.AxesSubplot object at 0x000001F3CEB7C388>,\n",
       "        <matplotlib.axes._subplots.AxesSubplot object at 0x000001F3CEBB94C8>,\n",
       "        <matplotlib.axes._subplots.AxesSubplot object at 0x000001F3CEBF25C8>,\n",
       "        <matplotlib.axes._subplots.AxesSubplot object at 0x000001F3CEC296C8>,\n",
       "        <matplotlib.axes._subplots.AxesSubplot object at 0x000001F3CEC62788>],\n",
       "       [<matplotlib.axes._subplots.AxesSubplot object at 0x000001F3CEC9B8C8>,\n",
       "        <matplotlib.axes._subplots.AxesSubplot object at 0x000001F3CECD49C8>,\n",
       "        <matplotlib.axes._subplots.AxesSubplot object at 0x000001F3CED0CAC8>,\n",
       "        <matplotlib.axes._subplots.AxesSubplot object at 0x000001F3CED44C08>,\n",
       "        <matplotlib.axes._subplots.AxesSubplot object at 0x000001F3CED7DC88>,\n",
       "        <matplotlib.axes._subplots.AxesSubplot object at 0x000001F3CEDB5D88>,\n",
       "        <matplotlib.axes._subplots.AxesSubplot object at 0x000001F3CEDEFEC8>,\n",
       "        <matplotlib.axes._subplots.AxesSubplot object at 0x000001F3CEE26FC8>,\n",
       "        <matplotlib.axes._subplots.AxesSubplot object at 0x000001F3CEE65108>],\n",
       "       [<matplotlib.axes._subplots.AxesSubplot object at 0x000001F3CEE9D1C8>,\n",
       "        <matplotlib.axes._subplots.AxesSubplot object at 0x000001F3CEED62C8>,\n",
       "        <matplotlib.axes._subplots.AxesSubplot object at 0x000001F3CEF103C8>,\n",
       "        <matplotlib.axes._subplots.AxesSubplot object at 0x000001F3CEF47508>,\n",
       "        <matplotlib.axes._subplots.AxesSubplot object at 0x000001F3CEF80608>,\n",
       "        <matplotlib.axes._subplots.AxesSubplot object at 0x000001F3CEFB96C8>,\n",
       "        <matplotlib.axes._subplots.AxesSubplot object at 0x000001F3CEFF3808>,\n",
       "        <matplotlib.axes._subplots.AxesSubplot object at 0x000001F3CF029908>,\n",
       "        <matplotlib.axes._subplots.AxesSubplot object at 0x000001F3CF063A08>],\n",
       "       [<matplotlib.axes._subplots.AxesSubplot object at 0x000001F3CF09AB48>,\n",
       "        <matplotlib.axes._subplots.AxesSubplot object at 0x000001F3CF0D3C48>,\n",
       "        <matplotlib.axes._subplots.AxesSubplot object at 0x000001F3CF10BCC8>,\n",
       "        <matplotlib.axes._subplots.AxesSubplot object at 0x000001F3CF146DC8>,\n",
       "        <matplotlib.axes._subplots.AxesSubplot object at 0x000001F3CF17DF08>,\n",
       "        <matplotlib.axes._subplots.AxesSubplot object at 0x000001F3CF1BC048>,\n",
       "        <matplotlib.axes._subplots.AxesSubplot object at 0x000001F3CF1F4148>,\n",
       "        <matplotlib.axes._subplots.AxesSubplot object at 0x000001F3CF22E248>,\n",
       "        <matplotlib.axes._subplots.AxesSubplot object at 0x000001F3CF266348>]],\n",
       "      dtype=object)"
      ]
     },
     "execution_count": 20,
     "metadata": {},
     "output_type": "execute_result"
    },
    {
     "data": {
      "image/png": "[encoded data removed]",
      "text/plain": [
       "<Figure size 576x576 with 81 Axes>"
      ]
     },
     "metadata": {
      "needs_background": "light"
     },
     "output_type": "display_data"
    }
   ],
   "source": [
    "from pandas.plotting import scatter_matrix\n",
    "attributes = ['median_house_value' , 'median_income' , 'total_rooms' , 'housing_median_age' , 'households'\n",
    "             , 'total_bedrooms' ,'population' , 'longitude' , 'latitude']\n",
    "scatter_matrix(housing[attributes] , figsize = (8 ,8 ))"
   ]
  },
  {
   "cell_type": "markdown",
   "metadata": {},
   "source": [
    "# Cleaning Datas"
   ]
  },
  {
   "cell_type": "code",
   "execution_count": 21,
   "metadata": {},
   "outputs": [
    {
     "data": {
      "text/plain": [
       "Index(['longitude', 'latitude', 'housing_median_age', 'total_rooms',\n",
       "       'population', 'households', 'median_income', 'median_house_value',\n",
       "       'ocean_proximity'],\n",
       "      dtype='object')"
      ]
     },
     "execution_count": 21,
     "metadata": {},
     "output_type": "execute_result"
    }
   ],
   "source": [
    "# 1) Remove The Feature that has empty observations\n",
    "remove_features=housing.drop('total_bedrooms' , axis = 1)\n",
    "remove_features.columns"
   ]
  },
  {
   "cell_type": "code",
   "execution_count": 23,
   "metadata": {
    "scrolled": true
   },
   "outputs": [
    {
     "name": "stdout",
     "output_type": "stream",
     "text": [
      "<class 'pandas.core.frame.DataFrame'>\n",
      "Int64Index: 20433 entries, 0 to 20639\n",
      "Data columns (total 10 columns):\n",
      "longitude             20433 non-null float64\n",
      "latitude              20433 non-null float64\n",
      "housing_median_age    20433 non-null float64\n",
      "total_rooms           20433 non-null float64\n",
      "total_bedrooms        20433 non-null float64\n",
      "population            20433 non-null float64\n",
      "households            20433 non-null float64\n",
      "median_income         20433 non-null float64\n",
      "median_house_value    20433 non-null float64\n",
      "ocean_proximity       20433 non-null object\n",
      "dtypes: float64(9), object(1)\n",
      "memory usage: 1.7+ MB\n"
     ]
    }
   ],
   "source": [
    "# 2) Remove observations that has empty datas along the features\n",
    "remove_observations=housing.dropna(subset = ['total_bedrooms'])\n",
    "remove_observations.info()"
   ]
  },
  {
   "cell_type": "code",
   "execution_count": 24,
   "metadata": {},
   "outputs": [],
   "source": [
    "# But these two steps are not too common cause we loss some useful informations , so it is better to use \n",
    "# Imputation : which us a way of handling empty or null values by filling with the best guess , the basic \n",
    "# implementation is to fill the empty datas with the mean , median or mode"
   ]
  },
  {
   "cell_type": "code",
   "execution_count": 25,
   "metadata": {},
   "outputs": [],
   "source": [
    "# Imputation :- adjusting empty datas by filling our best guess , the basic implementaion is to fill with\n",
    "# the mean , median or mode(but work only for numerical attribuites)\n",
    "housing_mean = housing['total_bedrooms'].mean()\n",
    "fill_mean=housing['total_bedrooms'].fillna(housing_mean)\n",
    "housing_median=housing['total_bedrooms'].median()\n",
    "fill_median=housing['total_bedrooms'].fillna(housing_median)\n",
    "housing_mode = housing['total_bedrooms'].mode()\n",
    "fill_mode = housing['total_bedrooms'].fillna(housing_mode)\n",
    "fill_zero = housing['total_bedrooms'].fillna(0)"
   ]
  },
  {
   "cell_type": "code",
   "execution_count": 26,
   "metadata": {},
   "outputs": [
    {
     "name": "stdout",
     "output_type": "stream",
     "text": [
      "537.8705525375618 435.0 0    280.0\n",
      "dtype: float64\n",
      "0     129.0\n",
      "1    1106.0\n",
      "2     190.0\n",
      "3     235.0\n",
      "4     280.0\n",
      "Name: total_bedrooms, dtype: float64 0     129.0\n",
      "1    1106.0\n",
      "2     190.0\n",
      "3     235.0\n",
      "4     280.0\n",
      "Name: total_bedrooms, dtype: float64 0     129.0\n",
      "1    1106.0\n",
      "2     190.0\n",
      "3     235.0\n",
      "4     280.0\n",
      "Name: total_bedrooms, dtype: float64 0     129.0\n",
      "1    1106.0\n",
      "2     190.0\n",
      "3     235.0\n",
      "4     280.0\n",
      "Name: total_bedrooms, dtype: float64\n"
     ]
    }
   ],
   "source": [
    "print(housing_mean , housing_median , housing_mode)\n",
    "print(fill_mean.head() , fill_median.head() , fill_mode.head()  , fill_zero.head())"
   ]
  },
  {
   "cell_type": "code",
   "execution_count": 107,
   "metadata": {},
   "outputs": [],
   "source": [
    "# # Give The Feature Matrix And Response Vector\n",
    "features=housing.drop('ocean_proximity' , axis = 1)\n",
    "# features = features.drop('median_house_value' , axis = 1)\n",
    "# response = housing['median_house_value'] # there will be inconsistency in a number of samples"
   ]
  },
  {
   "cell_type": "markdown",
   "metadata": {},
   "source": [
    "# Imputation Using Scikit Learn"
   ]
  },
  {
   "cell_type": "code",
   "execution_count": 108,
   "metadata": {},
   "outputs": [],
   "source": [
    "# imputation :- filling the empty datas using the best guess\n",
    "from sklearn.preprocessing import Imputer\n",
    "impute=Imputer(strategy = 'median' , axis = 0)\n",
    "features_old=impute.fit_transform(features)"
   ]
  },
  {
   "cell_type": "code",
   "execution_count": 109,
   "metadata": {
    "scrolled": false
   },
   "outputs": [
    {
     "name": "stdout",
     "output_type": "stream",
     "text": [
      "[-1.1849e+02  3.4260e+01  2.9000e+01  2.1270e+03  4.3500e+02  1.1660e+03\n",
      "  4.0900e+02  3.5348e+00  1.7970e+05]\n"
     ]
    },
    {
     "data": {
      "text/plain": [
       "array([-1.1849e+02,  3.4260e+01,  2.9000e+01,  2.1270e+03,  4.3500e+02,\n",
       "        1.1660e+03,  4.0900e+02,  3.5348e+00,  1.7970e+05])"
      ]
     },
     "execution_count": 109,
     "metadata": {},
     "output_type": "execute_result"
    }
   ],
   "source": [
    "#  but they imputer class is changed \n",
    "from sklearn.impute import SimpleImputer\n",
    "impute=SimpleImputer(strategy = 'median')\n",
    "impute.fit(features)\n",
    "# the imputer computes the median of each attributes and stores in the statistics_ instance variable \n",
    "print(impute.statistics_)\n",
    "features.median().values"
   ]
  },
  {
   "cell_type": "code",
   "execution_count": 110,
   "metadata": {},
   "outputs": [
    {
     "data": {
      "text/plain": [
       "-118.49"
      ]
     },
     "execution_count": 110,
     "metadata": {},
     "output_type": "execute_result"
    }
   ],
   "source": [
    "features['longitude'].median()"
   ]
  },
  {
   "cell_type": "code",
   "execution_count": 111,
   "metadata": {},
   "outputs": [
    {
     "name": "stdout",
     "output_type": "stream",
     "text": [
      "[[-1.2223e+02  3.7880e+01  4.1000e+01 ...  1.2600e+02  8.3252e+00\n",
      "   4.5260e+05]\n",
      " [-1.2222e+02  3.7860e+01  2.1000e+01 ...  1.1380e+03  8.3014e+00\n",
      "   3.5850e+05]\n",
      " [-1.2224e+02  3.7850e+01  5.2000e+01 ...  1.7700e+02  7.2574e+00\n",
      "   3.5210e+05]\n",
      " ...\n",
      " [-1.2122e+02  3.9430e+01  1.7000e+01 ...  4.3300e+02  1.7000e+00\n",
      "   9.2300e+04]\n",
      " [-1.2132e+02  3.9430e+01  1.8000e+01 ...  3.4900e+02  1.8672e+00\n",
      "   8.4700e+04]\n",
      " [-1.2124e+02  3.9370e+01  1.6000e+01 ...  5.3000e+02  2.3886e+00\n",
      "   8.9400e+04]]\n"
     ]
    }
   ],
   "source": [
    "# transform\n",
    "X=impute.transform(features)\n",
    "print(X)"
   ]
  },
  {
   "cell_type": "code",
   "execution_count": 112,
   "metadata": {
    "scrolled": true
   },
   "outputs": [
    {
     "data": {
      "text/html": [
       "<div>\n",
       "<style scoped>\n",
       "    .dataframe tbody tr th:only-of-type {\n",
       "        vertical-align: middle;\n",
       "    }\n",
       "\n",
       "    .dataframe tbody tr th {\n",
       "        vertical-align: top;\n",
       "    }\n",
       "\n",
       "    .dataframe thead th {\n",
       "        text-align: right;\n",
       "    }\n",
       "</style>\n",
       "<table border=\"1\" class=\"dataframe\">\n",
       "  <thead>\n",
       "    <tr style=\"text-align: right;\">\n",
       "      <th></th>\n",
       "      <th>longitude</th>\n",
       "      <th>latitude</th>\n",
       "      <th>housing_median_age</th>\n",
       "      <th>total_rooms</th>\n",
       "      <th>total_bedrooms</th>\n",
       "      <th>population</th>\n",
       "      <th>households</th>\n",
       "      <th>median_income</th>\n",
       "      <th>median_house_value</th>\n",
       "    </tr>\n",
       "  </thead>\n",
       "  <tbody>\n",
       "    <tr>\n",
       "      <td>0</td>\n",
       "      <td>-122.23</td>\n",
       "      <td>37.88</td>\n",
       "      <td>41.0</td>\n",
       "      <td>880.0</td>\n",
       "      <td>129.0</td>\n",
       "      <td>322.0</td>\n",
       "      <td>126.0</td>\n",
       "      <td>8.3252</td>\n",
       "      <td>452600.0</td>\n",
       "    </tr>\n",
       "    <tr>\n",
       "      <td>1</td>\n",
       "      <td>-122.22</td>\n",
       "      <td>37.86</td>\n",
       "      <td>21.0</td>\n",
       "      <td>7099.0</td>\n",
       "      <td>1106.0</td>\n",
       "      <td>2401.0</td>\n",
       "      <td>1138.0</td>\n",
       "      <td>8.3014</td>\n",
       "      <td>358500.0</td>\n",
       "    </tr>\n",
       "    <tr>\n",
       "      <td>2</td>\n",
       "      <td>-122.24</td>\n",
       "      <td>37.85</td>\n",
       "      <td>52.0</td>\n",
       "      <td>1467.0</td>\n",
       "      <td>190.0</td>\n",
       "      <td>496.0</td>\n",
       "      <td>177.0</td>\n",
       "      <td>7.2574</td>\n",
       "      <td>352100.0</td>\n",
       "    </tr>\n",
       "    <tr>\n",
       "      <td>3</td>\n",
       "      <td>-122.25</td>\n",
       "      <td>37.85</td>\n",
       "      <td>52.0</td>\n",
       "      <td>1274.0</td>\n",
       "      <td>235.0</td>\n",
       "      <td>558.0</td>\n",
       "      <td>219.0</td>\n",
       "      <td>5.6431</td>\n",
       "      <td>341300.0</td>\n",
       "    </tr>\n",
       "    <tr>\n",
       "      <td>4</td>\n",
       "      <td>-122.25</td>\n",
       "      <td>37.85</td>\n",
       "      <td>52.0</td>\n",
       "      <td>1627.0</td>\n",
       "      <td>280.0</td>\n",
       "      <td>565.0</td>\n",
       "      <td>259.0</td>\n",
       "      <td>3.8462</td>\n",
       "      <td>342200.0</td>\n",
       "    </tr>\n",
       "  </tbody>\n",
       "</table>\n",
       "</div>"
      ],
      "text/plain": [
       "   longitude  latitude  housing_median_age  total_rooms  total_bedrooms  \\\n",
       "0    -122.23     37.88                41.0        880.0           129.0   \n",
       "1    -122.22     37.86                21.0       7099.0          1106.0   \n",
       "2    -122.24     37.85                52.0       1467.0           190.0   \n",
       "3    -122.25     37.85                52.0       1274.0           235.0   \n",
       "4    -122.25     37.85                52.0       1627.0           280.0   \n",
       "\n",
       "   population  households  median_income  median_house_value  \n",
       "0       322.0       126.0         8.3252            452600.0  \n",
       "1      2401.0      1138.0         8.3014            358500.0  \n",
       "2       496.0       177.0         7.2574            352100.0  \n",
       "3       558.0       219.0         5.6431            341300.0  \n",
       "4       565.0       259.0         3.8462            342200.0  "
      ]
     },
     "execution_count": 112,
     "metadata": {},
     "output_type": "execute_result"
    }
   ],
   "source": [
    "# changing the plain numpy array to a pandas dataframe\n",
    "features=pd.DataFrame(X , columns = features.columns)\n",
    "features.head()"
   ]
  },
  {
   "cell_type": "code",
   "execution_count": 113,
   "metadata": {
    "scrolled": true
   },
   "outputs": [
    {
     "name": "stdout",
     "output_type": "stream",
     "text": [
      "<class 'pandas.core.frame.DataFrame'>\n",
      "RangeIndex: 20640 entries, 0 to 20639\n",
      "Data columns (total 9 columns):\n",
      "longitude             20640 non-null float64\n",
      "latitude              20640 non-null float64\n",
      "housing_median_age    20640 non-null float64\n",
      "total_rooms           20640 non-null float64\n",
      "total_bedrooms        20640 non-null float64\n",
      "population            20640 non-null float64\n",
      "households            20640 non-null float64\n",
      "median_income         20640 non-null float64\n",
      "median_house_value    20640 non-null float64\n",
      "dtypes: float64(9)\n",
      "memory usage: 1.4 MB\n"
     ]
    }
   ],
   "source": [
    "features.info() # no empty data"
   ]
  },
  {
   "cell_type": "markdown",
   "metadata": {},
   "source": [
    "# Working With Duplicated Datas"
   ]
  },
  {
   "cell_type": "code",
   "execution_count": 114,
   "metadata": {},
   "outputs": [],
   "source": [
    "# since we have no any duplicated datas we will not create a variable to assign for each of our examples"
   ]
  },
  {
   "cell_type": "code",
   "execution_count": 115,
   "metadata": {
    "scrolled": true
   },
   "outputs": [
    {
     "data": {
      "text/plain": [
       "0    False\n",
       "1    False\n",
       "2    False\n",
       "3    False\n",
       "4    False\n",
       "dtype: bool"
      ]
     },
     "execution_count": 115,
     "metadata": {},
     "output_type": "execute_result"
    }
   ],
   "source": [
    "# detecting if there is any duplicated row records\n",
    "features.duplicated().head()"
   ]
  },
  {
   "cell_type": "code",
   "execution_count": 116,
   "metadata": {
    "scrolled": true
   },
   "outputs": [
    {
     "data": {
      "text/plain": [
       "0"
      ]
     },
     "execution_count": 116,
     "metadata": {},
     "output_type": "execute_result"
    }
   ],
   "source": [
    "# total numbers of duplicated datas\n",
    "features.duplicated().sum()"
   ]
  },
  {
   "cell_type": "code",
   "execution_count": 117,
   "metadata": {},
   "outputs": [
    {
     "data": {
      "text/plain": [
       "0    False\n",
       "1    False\n",
       "2    False\n",
       "3    False\n",
       "4    False\n",
       "dtype: bool"
      ]
     },
     "execution_count": 117,
     "metadata": {},
     "output_type": "execute_result"
    }
   ],
   "source": [
    "# duplicated parameters\n",
    "# 1) keep = 'First' , the default\n",
    "features.duplicated(keep = 'first').head() # mark duplicates as True exept for the first occurance"
   ]
  },
  {
   "cell_type": "code",
   "execution_count": 118,
   "metadata": {
    "scrolled": true
   },
   "outputs": [
    {
     "data": {
      "text/plain": [
       "0    False\n",
       "1    False\n",
       "2    False\n",
       "3    False\n",
       "4    False\n",
       "dtype: bool"
      ]
     },
     "execution_count": 118,
     "metadata": {},
     "output_type": "execute_result"
    }
   ],
   "source": [
    "# 2) keep = 'last'\n",
    "features.duplicated(keep = 'last').head() # mark duplicates as True except for the last occurance"
   ]
  },
  {
   "cell_type": "code",
   "execution_count": 119,
   "metadata": {},
   "outputs": [
    {
     "data": {
      "text/plain": [
       "0        False\n",
       "1        False\n",
       "2        False\n",
       "3        False\n",
       "4        False\n",
       "         ...  \n",
       "20635    False\n",
       "20636    False\n",
       "20637    False\n",
       "20638    False\n",
       "20639    False\n",
       "Length: 20640, dtype: bool"
      ]
     },
     "execution_count": 119,
     "metadata": {},
     "output_type": "execute_result"
    }
   ],
   "source": [
    "# 3) keep = 'False'\n",
    "features.duplicated(keep = False) # mark all of the duplicates as True"
   ]
  },
  {
   "cell_type": "code",
   "execution_count": 120,
   "metadata": {
    "scrolled": false
   },
   "outputs": [
    {
     "data": {
      "text/html": [
       "<div>\n",
       "<style scoped>\n",
       "    .dataframe tbody tr th:only-of-type {\n",
       "        vertical-align: middle;\n",
       "    }\n",
       "\n",
       "    .dataframe tbody tr th {\n",
       "        vertical-align: top;\n",
       "    }\n",
       "\n",
       "    .dataframe thead th {\n",
       "        text-align: right;\n",
       "    }\n",
       "</style>\n",
       "<table border=\"1\" class=\"dataframe\">\n",
       "  <thead>\n",
       "    <tr style=\"text-align: right;\">\n",
       "      <th></th>\n",
       "      <th>longitude</th>\n",
       "      <th>latitude</th>\n",
       "      <th>housing_median_age</th>\n",
       "      <th>total_rooms</th>\n",
       "      <th>total_bedrooms</th>\n",
       "      <th>population</th>\n",
       "      <th>households</th>\n",
       "      <th>median_income</th>\n",
       "      <th>median_house_value</th>\n",
       "    </tr>\n",
       "  </thead>\n",
       "  <tbody>\n",
       "  </tbody>\n",
       "</table>\n",
       "</div>"
      ],
      "text/plain": [
       "Empty DataFrame\n",
       "Columns: [longitude, latitude, housing_median_age, total_rooms, total_bedrooms, population, households, median_income, median_house_value]\n",
       "Index: []"
      ]
     },
     "execution_count": 120,
     "metadata": {},
     "output_type": "execute_result"
    }
   ],
   "source": [
    "# displaying the duplicated rows\n",
    "features.loc[features.duplicated(keep = 'first') , :] # there is no any duplicated rows"
   ]
  },
  {
   "cell_type": "code",
   "execution_count": 121,
   "metadata": {
    "scrolled": true
   },
   "outputs": [
    {
     "data": {
      "text/html": [
       "<div>\n",
       "<style scoped>\n",
       "    .dataframe tbody tr th:only-of-type {\n",
       "        vertical-align: middle;\n",
       "    }\n",
       "\n",
       "    .dataframe tbody tr th {\n",
       "        vertical-align: top;\n",
       "    }\n",
       "\n",
       "    .dataframe thead th {\n",
       "        text-align: right;\n",
       "    }\n",
       "</style>\n",
       "<table border=\"1\" class=\"dataframe\">\n",
       "  <thead>\n",
       "    <tr style=\"text-align: right;\">\n",
       "      <th></th>\n",
       "      <th>longitude</th>\n",
       "      <th>latitude</th>\n",
       "      <th>housing_median_age</th>\n",
       "      <th>total_rooms</th>\n",
       "      <th>total_bedrooms</th>\n",
       "      <th>population</th>\n",
       "      <th>households</th>\n",
       "      <th>median_income</th>\n",
       "      <th>median_house_value</th>\n",
       "    </tr>\n",
       "  </thead>\n",
       "  <tbody>\n",
       "  </tbody>\n",
       "</table>\n",
       "</div>"
      ],
      "text/plain": [
       "Empty DataFrame\n",
       "Columns: [longitude, latitude, housing_median_age, total_rooms, total_bedrooms, population, households, median_income, median_house_value]\n",
       "Index: []"
      ]
     },
     "execution_count": 121,
     "metadata": {},
     "output_type": "execute_result"
    }
   ],
   "source": [
    "features.loc[features.duplicated(keep = 'last') , :] # there is no any duplicated rows"
   ]
  },
  {
   "cell_type": "code",
   "execution_count": 122,
   "metadata": {},
   "outputs": [
    {
     "data": {
      "text/html": [
       "<div>\n",
       "<style scoped>\n",
       "    .dataframe tbody tr th:only-of-type {\n",
       "        vertical-align: middle;\n",
       "    }\n",
       "\n",
       "    .dataframe tbody tr th {\n",
       "        vertical-align: top;\n",
       "    }\n",
       "\n",
       "    .dataframe thead th {\n",
       "        text-align: right;\n",
       "    }\n",
       "</style>\n",
       "<table border=\"1\" class=\"dataframe\">\n",
       "  <thead>\n",
       "    <tr style=\"text-align: right;\">\n",
       "      <th></th>\n",
       "      <th>longitude</th>\n",
       "      <th>latitude</th>\n",
       "      <th>housing_median_age</th>\n",
       "      <th>total_rooms</th>\n",
       "      <th>total_bedrooms</th>\n",
       "      <th>population</th>\n",
       "      <th>households</th>\n",
       "      <th>median_income</th>\n",
       "      <th>median_house_value</th>\n",
       "    </tr>\n",
       "  </thead>\n",
       "  <tbody>\n",
       "  </tbody>\n",
       "</table>\n",
       "</div>"
      ],
      "text/plain": [
       "Empty DataFrame\n",
       "Columns: [longitude, latitude, housing_median_age, total_rooms, total_bedrooms, population, households, median_income, median_house_value]\n",
       "Index: []"
      ]
     },
     "execution_count": 122,
     "metadata": {},
     "output_type": "execute_result"
    }
   ],
   "source": [
    "features.loc[features.duplicated(keep = False) , :] # there is no any duplicated rows"
   ]
  },
  {
   "cell_type": "code",
   "execution_count": 123,
   "metadata": {
    "scrolled": true
   },
   "outputs": [
    {
     "data": {
      "text/html": [
       "<div>\n",
       "<style scoped>\n",
       "    .dataframe tbody tr th:only-of-type {\n",
       "        vertical-align: middle;\n",
       "    }\n",
       "\n",
       "    .dataframe tbody tr th {\n",
       "        vertical-align: top;\n",
       "    }\n",
       "\n",
       "    .dataframe thead th {\n",
       "        text-align: right;\n",
       "    }\n",
       "</style>\n",
       "<table border=\"1\" class=\"dataframe\">\n",
       "  <thead>\n",
       "    <tr style=\"text-align: right;\">\n",
       "      <th></th>\n",
       "      <th>longitude</th>\n",
       "      <th>latitude</th>\n",
       "      <th>housing_median_age</th>\n",
       "      <th>total_rooms</th>\n",
       "      <th>total_bedrooms</th>\n",
       "      <th>population</th>\n",
       "      <th>households</th>\n",
       "      <th>median_income</th>\n",
       "      <th>median_house_value</th>\n",
       "    </tr>\n",
       "  </thead>\n",
       "  <tbody>\n",
       "    <tr>\n",
       "      <td>0</td>\n",
       "      <td>-122.23</td>\n",
       "      <td>37.88</td>\n",
       "      <td>41.0</td>\n",
       "      <td>880.0</td>\n",
       "      <td>129.0</td>\n",
       "      <td>322.0</td>\n",
       "      <td>126.0</td>\n",
       "      <td>8.3252</td>\n",
       "      <td>452600.0</td>\n",
       "    </tr>\n",
       "    <tr>\n",
       "      <td>1</td>\n",
       "      <td>-122.22</td>\n",
       "      <td>37.86</td>\n",
       "      <td>21.0</td>\n",
       "      <td>7099.0</td>\n",
       "      <td>1106.0</td>\n",
       "      <td>2401.0</td>\n",
       "      <td>1138.0</td>\n",
       "      <td>8.3014</td>\n",
       "      <td>358500.0</td>\n",
       "    </tr>\n",
       "    <tr>\n",
       "      <td>2</td>\n",
       "      <td>-122.24</td>\n",
       "      <td>37.85</td>\n",
       "      <td>52.0</td>\n",
       "      <td>1467.0</td>\n",
       "      <td>190.0</td>\n",
       "      <td>496.0</td>\n",
       "      <td>177.0</td>\n",
       "      <td>7.2574</td>\n",
       "      <td>352100.0</td>\n",
       "    </tr>\n",
       "    <tr>\n",
       "      <td>3</td>\n",
       "      <td>-122.25</td>\n",
       "      <td>37.85</td>\n",
       "      <td>52.0</td>\n",
       "      <td>1274.0</td>\n",
       "      <td>235.0</td>\n",
       "      <td>558.0</td>\n",
       "      <td>219.0</td>\n",
       "      <td>5.6431</td>\n",
       "      <td>341300.0</td>\n",
       "    </tr>\n",
       "    <tr>\n",
       "      <td>4</td>\n",
       "      <td>-122.25</td>\n",
       "      <td>37.85</td>\n",
       "      <td>52.0</td>\n",
       "      <td>1627.0</td>\n",
       "      <td>280.0</td>\n",
       "      <td>565.0</td>\n",
       "      <td>259.0</td>\n",
       "      <td>3.8462</td>\n",
       "      <td>342200.0</td>\n",
       "    </tr>\n",
       "  </tbody>\n",
       "</table>\n",
       "</div>"
      ],
      "text/plain": [
       "   longitude  latitude  housing_median_age  total_rooms  total_bedrooms  \\\n",
       "0    -122.23     37.88                41.0        880.0           129.0   \n",
       "1    -122.22     37.86                21.0       7099.0          1106.0   \n",
       "2    -122.24     37.85                52.0       1467.0           190.0   \n",
       "3    -122.25     37.85                52.0       1274.0           235.0   \n",
       "4    -122.25     37.85                52.0       1627.0           280.0   \n",
       "\n",
       "   population  households  median_income  median_house_value  \n",
       "0       322.0       126.0         8.3252            452600.0  \n",
       "1      2401.0      1138.0         8.3014            358500.0  \n",
       "2       496.0       177.0         7.2574            352100.0  \n",
       "3       558.0       219.0         5.6431            341300.0  \n",
       "4       565.0       259.0         3.8462            342200.0  "
      ]
     },
     "execution_count": 123,
     "metadata": {},
     "output_type": "execute_result"
    }
   ],
   "source": [
    "# Removing Duplicated Rows\n",
    "features.drop_duplicates(keep = 'first').head()"
   ]
  },
  {
   "cell_type": "code",
   "execution_count": 124,
   "metadata": {
    "scrolled": false
   },
   "outputs": [
    {
     "data": {
      "text/plain": [
       "(20640, 9)"
      ]
     },
     "execution_count": 124,
     "metadata": {},
     "output_type": "execute_result"
    }
   ],
   "source": [
    "features.shape # no removed datas"
   ]
  },
  {
   "cell_type": "code",
   "execution_count": 125,
   "metadata": {},
   "outputs": [
    {
     "data": {
      "text/plain": [
       "longitude             False\n",
       "latitude              False\n",
       "housing_median_age    False\n",
       "total_rooms           False\n",
       "total_bedrooms        False\n",
       "population            False\n",
       "households            False\n",
       "median_income         False\n",
       "median_house_value    False\n",
       "dtype: bool"
      ]
     },
     "execution_count": 125,
     "metadata": {},
     "output_type": "execute_result"
    }
   ],
   "source": [
    "# Detecting Duplciated Columns\n",
    "features.T.duplicated()"
   ]
  },
  {
   "cell_type": "code",
   "execution_count": 126,
   "metadata": {},
   "outputs": [
    {
     "data": {
      "text/plain": [
       "0"
      ]
     },
     "execution_count": 126,
     "metadata": {},
     "output_type": "execute_result"
    }
   ],
   "source": [
    "# checking the number of duplicated columns\n",
    "features.T.duplicated().sum()"
   ]
  },
  {
   "cell_type": "code",
   "execution_count": 127,
   "metadata": {},
   "outputs": [
    {
     "data": {
      "text/html": [
       "<div>\n",
       "<style scoped>\n",
       "    .dataframe tbody tr th:only-of-type {\n",
       "        vertical-align: middle;\n",
       "    }\n",
       "\n",
       "    .dataframe tbody tr th {\n",
       "        vertical-align: top;\n",
       "    }\n",
       "\n",
       "    .dataframe thead th {\n",
       "        text-align: right;\n",
       "    }\n",
       "</style>\n",
       "<table border=\"1\" class=\"dataframe\">\n",
       "  <thead>\n",
       "    <tr style=\"text-align: right;\">\n",
       "      <th></th>\n",
       "    </tr>\n",
       "  </thead>\n",
       "  <tbody>\n",
       "    <tr>\n",
       "      <td>0</td>\n",
       "    </tr>\n",
       "    <tr>\n",
       "      <td>1</td>\n",
       "    </tr>\n",
       "    <tr>\n",
       "      <td>2</td>\n",
       "    </tr>\n",
       "    <tr>\n",
       "      <td>3</td>\n",
       "    </tr>\n",
       "    <tr>\n",
       "      <td>4</td>\n",
       "    </tr>\n",
       "  </tbody>\n",
       "</table>\n",
       "</div>"
      ],
      "text/plain": [
       "Empty DataFrame\n",
       "Columns: []\n",
       "Index: [0, 1, 2, 3, 4]"
      ]
     },
     "execution_count": 127,
     "metadata": {},
     "output_type": "execute_result"
    }
   ],
   "source": [
    "# displaying the value of the duplciated columns\n",
    "features.loc[: , features.T.duplicated(keep = 'first')].head()"
   ]
  },
  {
   "cell_type": "code",
   "execution_count": 128,
   "metadata": {
    "scrolled": true
   },
   "outputs": [
    {
     "data": {
      "text/html": [
       "<div>\n",
       "<style scoped>\n",
       "    .dataframe tbody tr th:only-of-type {\n",
       "        vertical-align: middle;\n",
       "    }\n",
       "\n",
       "    .dataframe tbody tr th {\n",
       "        vertical-align: top;\n",
       "    }\n",
       "\n",
       "    .dataframe thead th {\n",
       "        text-align: right;\n",
       "    }\n",
       "</style>\n",
       "<table border=\"1\" class=\"dataframe\">\n",
       "  <thead>\n",
       "    <tr style=\"text-align: right;\">\n",
       "      <th></th>\n",
       "      <th>0</th>\n",
       "      <th>1</th>\n",
       "      <th>2</th>\n",
       "      <th>3</th>\n",
       "      <th>4</th>\n",
       "      <th>5</th>\n",
       "      <th>6</th>\n",
       "      <th>7</th>\n",
       "      <th>8</th>\n",
       "      <th>9</th>\n",
       "      <th>...</th>\n",
       "      <th>20630</th>\n",
       "      <th>20631</th>\n",
       "      <th>20632</th>\n",
       "      <th>20633</th>\n",
       "      <th>20634</th>\n",
       "      <th>20635</th>\n",
       "      <th>20636</th>\n",
       "      <th>20637</th>\n",
       "      <th>20638</th>\n",
       "      <th>20639</th>\n",
       "    </tr>\n",
       "  </thead>\n",
       "  <tbody>\n",
       "    <tr>\n",
       "      <td>longitude</td>\n",
       "      <td>-122.2300</td>\n",
       "      <td>-122.2200</td>\n",
       "      <td>-122.2400</td>\n",
       "      <td>-122.2500</td>\n",
       "      <td>-122.2500</td>\n",
       "      <td>-122.2500</td>\n",
       "      <td>-122.2500</td>\n",
       "      <td>-122.25</td>\n",
       "      <td>-122.2600</td>\n",
       "      <td>-122.2500</td>\n",
       "      <td>...</td>\n",
       "      <td>-121.3200</td>\n",
       "      <td>-121.4000</td>\n",
       "      <td>-121.450</td>\n",
       "      <td>-121.5300</td>\n",
       "      <td>-121.5600</td>\n",
       "      <td>-121.0900</td>\n",
       "      <td>-121.2100</td>\n",
       "      <td>-121.22</td>\n",
       "      <td>-121.3200</td>\n",
       "      <td>-121.2400</td>\n",
       "    </tr>\n",
       "    <tr>\n",
       "      <td>latitude</td>\n",
       "      <td>37.8800</td>\n",
       "      <td>37.8600</td>\n",
       "      <td>37.8500</td>\n",
       "      <td>37.8500</td>\n",
       "      <td>37.8500</td>\n",
       "      <td>37.8500</td>\n",
       "      <td>37.8400</td>\n",
       "      <td>37.84</td>\n",
       "      <td>37.8400</td>\n",
       "      <td>37.8400</td>\n",
       "      <td>...</td>\n",
       "      <td>39.2900</td>\n",
       "      <td>39.3300</td>\n",
       "      <td>39.260</td>\n",
       "      <td>39.1900</td>\n",
       "      <td>39.2700</td>\n",
       "      <td>39.4800</td>\n",
       "      <td>39.4900</td>\n",
       "      <td>39.43</td>\n",
       "      <td>39.4300</td>\n",
       "      <td>39.3700</td>\n",
       "    </tr>\n",
       "    <tr>\n",
       "      <td>housing_median_age</td>\n",
       "      <td>41.0000</td>\n",
       "      <td>21.0000</td>\n",
       "      <td>52.0000</td>\n",
       "      <td>52.0000</td>\n",
       "      <td>52.0000</td>\n",
       "      <td>52.0000</td>\n",
       "      <td>52.0000</td>\n",
       "      <td>52.00</td>\n",
       "      <td>42.0000</td>\n",
       "      <td>52.0000</td>\n",
       "      <td>...</td>\n",
       "      <td>11.0000</td>\n",
       "      <td>15.0000</td>\n",
       "      <td>15.000</td>\n",
       "      <td>27.0000</td>\n",
       "      <td>28.0000</td>\n",
       "      <td>25.0000</td>\n",
       "      <td>18.0000</td>\n",
       "      <td>17.00</td>\n",
       "      <td>18.0000</td>\n",
       "      <td>16.0000</td>\n",
       "    </tr>\n",
       "    <tr>\n",
       "      <td>total_rooms</td>\n",
       "      <td>880.0000</td>\n",
       "      <td>7099.0000</td>\n",
       "      <td>1467.0000</td>\n",
       "      <td>1274.0000</td>\n",
       "      <td>1627.0000</td>\n",
       "      <td>919.0000</td>\n",
       "      <td>2535.0000</td>\n",
       "      <td>3104.00</td>\n",
       "      <td>2555.0000</td>\n",
       "      <td>3549.0000</td>\n",
       "      <td>...</td>\n",
       "      <td>2640.0000</td>\n",
       "      <td>2655.0000</td>\n",
       "      <td>2319.000</td>\n",
       "      <td>2080.0000</td>\n",
       "      <td>2332.0000</td>\n",
       "      <td>1665.0000</td>\n",
       "      <td>697.0000</td>\n",
       "      <td>2254.00</td>\n",
       "      <td>1860.0000</td>\n",
       "      <td>2785.0000</td>\n",
       "    </tr>\n",
       "    <tr>\n",
       "      <td>total_bedrooms</td>\n",
       "      <td>129.0000</td>\n",
       "      <td>1106.0000</td>\n",
       "      <td>190.0000</td>\n",
       "      <td>235.0000</td>\n",
       "      <td>280.0000</td>\n",
       "      <td>213.0000</td>\n",
       "      <td>489.0000</td>\n",
       "      <td>687.00</td>\n",
       "      <td>665.0000</td>\n",
       "      <td>707.0000</td>\n",
       "      <td>...</td>\n",
       "      <td>505.0000</td>\n",
       "      <td>493.0000</td>\n",
       "      <td>416.000</td>\n",
       "      <td>412.0000</td>\n",
       "      <td>395.0000</td>\n",
       "      <td>374.0000</td>\n",
       "      <td>150.0000</td>\n",
       "      <td>485.00</td>\n",
       "      <td>409.0000</td>\n",
       "      <td>616.0000</td>\n",
       "    </tr>\n",
       "    <tr>\n",
       "      <td>population</td>\n",
       "      <td>322.0000</td>\n",
       "      <td>2401.0000</td>\n",
       "      <td>496.0000</td>\n",
       "      <td>558.0000</td>\n",
       "      <td>565.0000</td>\n",
       "      <td>413.0000</td>\n",
       "      <td>1094.0000</td>\n",
       "      <td>1157.00</td>\n",
       "      <td>1206.0000</td>\n",
       "      <td>1551.0000</td>\n",
       "      <td>...</td>\n",
       "      <td>1257.0000</td>\n",
       "      <td>1200.0000</td>\n",
       "      <td>1047.000</td>\n",
       "      <td>1082.0000</td>\n",
       "      <td>1041.0000</td>\n",
       "      <td>845.0000</td>\n",
       "      <td>356.0000</td>\n",
       "      <td>1007.00</td>\n",
       "      <td>741.0000</td>\n",
       "      <td>1387.0000</td>\n",
       "    </tr>\n",
       "    <tr>\n",
       "      <td>households</td>\n",
       "      <td>126.0000</td>\n",
       "      <td>1138.0000</td>\n",
       "      <td>177.0000</td>\n",
       "      <td>219.0000</td>\n",
       "      <td>259.0000</td>\n",
       "      <td>193.0000</td>\n",
       "      <td>514.0000</td>\n",
       "      <td>647.00</td>\n",
       "      <td>595.0000</td>\n",
       "      <td>714.0000</td>\n",
       "      <td>...</td>\n",
       "      <td>445.0000</td>\n",
       "      <td>432.0000</td>\n",
       "      <td>385.000</td>\n",
       "      <td>382.0000</td>\n",
       "      <td>344.0000</td>\n",
       "      <td>330.0000</td>\n",
       "      <td>114.0000</td>\n",
       "      <td>433.00</td>\n",
       "      <td>349.0000</td>\n",
       "      <td>530.0000</td>\n",
       "    </tr>\n",
       "    <tr>\n",
       "      <td>median_income</td>\n",
       "      <td>8.3252</td>\n",
       "      <td>8.3014</td>\n",
       "      <td>7.2574</td>\n",
       "      <td>5.6431</td>\n",
       "      <td>3.8462</td>\n",
       "      <td>4.0368</td>\n",
       "      <td>3.6591</td>\n",
       "      <td>3.12</td>\n",
       "      <td>2.0804</td>\n",
       "      <td>3.6912</td>\n",
       "      <td>...</td>\n",
       "      <td>3.5673</td>\n",
       "      <td>3.5179</td>\n",
       "      <td>3.125</td>\n",
       "      <td>2.5495</td>\n",
       "      <td>3.7125</td>\n",
       "      <td>1.5603</td>\n",
       "      <td>2.5568</td>\n",
       "      <td>1.70</td>\n",
       "      <td>1.8672</td>\n",
       "      <td>2.3886</td>\n",
       "    </tr>\n",
       "    <tr>\n",
       "      <td>median_house_value</td>\n",
       "      <td>452600.0000</td>\n",
       "      <td>358500.0000</td>\n",
       "      <td>352100.0000</td>\n",
       "      <td>341300.0000</td>\n",
       "      <td>342200.0000</td>\n",
       "      <td>269700.0000</td>\n",
       "      <td>299200.0000</td>\n",
       "      <td>241400.00</td>\n",
       "      <td>226700.0000</td>\n",
       "      <td>261100.0000</td>\n",
       "      <td>...</td>\n",
       "      <td>112000.0000</td>\n",
       "      <td>107200.0000</td>\n",
       "      <td>115600.000</td>\n",
       "      <td>98300.0000</td>\n",
       "      <td>116800.0000</td>\n",
       "      <td>78100.0000</td>\n",
       "      <td>77100.0000</td>\n",
       "      <td>92300.00</td>\n",
       "      <td>84700.0000</td>\n",
       "      <td>89400.0000</td>\n",
       "    </tr>\n",
       "  </tbody>\n",
       "</table>\n",
       "<p>9 rows × 20640 columns</p>\n",
       "</div>"
      ],
      "text/plain": [
       "                          0            1            2            3      \\\n",
       "longitude             -122.2300    -122.2200    -122.2400    -122.2500   \n",
       "latitude                37.8800      37.8600      37.8500      37.8500   \n",
       "housing_median_age      41.0000      21.0000      52.0000      52.0000   \n",
       "total_rooms            880.0000    7099.0000    1467.0000    1274.0000   \n",
       "total_bedrooms         129.0000    1106.0000     190.0000     235.0000   \n",
       "population             322.0000    2401.0000     496.0000     558.0000   \n",
       "households             126.0000    1138.0000     177.0000     219.0000   \n",
       "median_income            8.3252       8.3014       7.2574       5.6431   \n",
       "median_house_value  452600.0000  358500.0000  352100.0000  341300.0000   \n",
       "\n",
       "                          4            5            6          7      \\\n",
       "longitude             -122.2500    -122.2500    -122.2500    -122.25   \n",
       "latitude                37.8500      37.8500      37.8400      37.84   \n",
       "housing_median_age      52.0000      52.0000      52.0000      52.00   \n",
       "total_rooms           1627.0000     919.0000    2535.0000    3104.00   \n",
       "total_bedrooms         280.0000     213.0000     489.0000     687.00   \n",
       "population             565.0000     413.0000    1094.0000    1157.00   \n",
       "households             259.0000     193.0000     514.0000     647.00   \n",
       "median_income            3.8462       4.0368       3.6591       3.12   \n",
       "median_house_value  342200.0000  269700.0000  299200.0000  241400.00   \n",
       "\n",
       "                          8            9      ...        20630        20631  \\\n",
       "longitude             -122.2600    -122.2500  ...    -121.3200    -121.4000   \n",
       "latitude                37.8400      37.8400  ...      39.2900      39.3300   \n",
       "housing_median_age      42.0000      52.0000  ...      11.0000      15.0000   \n",
       "total_rooms           2555.0000    3549.0000  ...    2640.0000    2655.0000   \n",
       "total_bedrooms         665.0000     707.0000  ...     505.0000     493.0000   \n",
       "population            1206.0000    1551.0000  ...    1257.0000    1200.0000   \n",
       "households             595.0000     714.0000  ...     445.0000     432.0000   \n",
       "median_income            2.0804       3.6912  ...       3.5673       3.5179   \n",
       "median_house_value  226700.0000  261100.0000  ...  112000.0000  107200.0000   \n",
       "\n",
       "                         20632       20633        20634       20635  \\\n",
       "longitude             -121.450   -121.5300    -121.5600   -121.0900   \n",
       "latitude                39.260     39.1900      39.2700     39.4800   \n",
       "housing_median_age      15.000     27.0000      28.0000     25.0000   \n",
       "total_rooms           2319.000   2080.0000    2332.0000   1665.0000   \n",
       "total_bedrooms         416.000    412.0000     395.0000    374.0000   \n",
       "population            1047.000   1082.0000    1041.0000    845.0000   \n",
       "households             385.000    382.0000     344.0000    330.0000   \n",
       "median_income            3.125      2.5495       3.7125      1.5603   \n",
       "median_house_value  115600.000  98300.0000  116800.0000  78100.0000   \n",
       "\n",
       "                         20636     20637       20638       20639  \n",
       "longitude            -121.2100   -121.22   -121.3200   -121.2400  \n",
       "latitude               39.4900     39.43     39.4300     39.3700  \n",
       "housing_median_age     18.0000     17.00     18.0000     16.0000  \n",
       "total_rooms           697.0000   2254.00   1860.0000   2785.0000  \n",
       "total_bedrooms        150.0000    485.00    409.0000    616.0000  \n",
       "population            356.0000   1007.00    741.0000   1387.0000  \n",
       "households            114.0000    433.00    349.0000    530.0000  \n",
       "median_income           2.5568      1.70      1.8672      2.3886  \n",
       "median_house_value  77100.0000  92300.00  84700.0000  89400.0000  \n",
       "\n",
       "[9 rows x 20640 columns]"
      ]
     },
     "execution_count": 128,
     "metadata": {},
     "output_type": "execute_result"
    }
   ],
   "source": [
    "# removing those with a duplicated Columns\n",
    "features.T.drop_duplicates(keep = 'first')"
   ]
  },
  {
   "cell_type": "code",
   "execution_count": 129,
   "metadata": {},
   "outputs": [
    {
     "data": {
      "text/plain": [
       "(9, 20640)"
      ]
     },
     "execution_count": 129,
     "metadata": {},
     "output_type": "execute_result"
    }
   ],
   "source": [
    "features.T.drop_duplicates(keep = 'first').shape # no duplicated column"
   ]
  },
  {
   "cell_type": "code",
   "execution_count": 130,
   "metadata": {
    "scrolled": true
   },
   "outputs": [
    {
     "data": {
      "text/html": [
       "<div>\n",
       "<style scoped>\n",
       "    .dataframe tbody tr th:only-of-type {\n",
       "        vertical-align: middle;\n",
       "    }\n",
       "\n",
       "    .dataframe tbody tr th {\n",
       "        vertical-align: top;\n",
       "    }\n",
       "\n",
       "    .dataframe thead th {\n",
       "        text-align: right;\n",
       "    }\n",
       "</style>\n",
       "<table border=\"1\" class=\"dataframe\">\n",
       "  <thead>\n",
       "    <tr style=\"text-align: right;\">\n",
       "      <th></th>\n",
       "      <th>longitude</th>\n",
       "      <th>latitude</th>\n",
       "      <th>housing_median_age</th>\n",
       "      <th>total_rooms</th>\n",
       "      <th>total_bedrooms</th>\n",
       "      <th>population</th>\n",
       "      <th>households</th>\n",
       "      <th>median_income</th>\n",
       "      <th>median_house_value</th>\n",
       "    </tr>\n",
       "  </thead>\n",
       "  <tbody>\n",
       "    <tr>\n",
       "      <td>0</td>\n",
       "      <td>-122.23</td>\n",
       "      <td>37.88</td>\n",
       "      <td>41.0</td>\n",
       "      <td>880.0</td>\n",
       "      <td>129.0</td>\n",
       "      <td>322.0</td>\n",
       "      <td>126.0</td>\n",
       "      <td>8.3252</td>\n",
       "      <td>452600.0</td>\n",
       "    </tr>\n",
       "    <tr>\n",
       "      <td>1</td>\n",
       "      <td>-122.22</td>\n",
       "      <td>37.86</td>\n",
       "      <td>21.0</td>\n",
       "      <td>7099.0</td>\n",
       "      <td>1106.0</td>\n",
       "      <td>2401.0</td>\n",
       "      <td>1138.0</td>\n",
       "      <td>8.3014</td>\n",
       "      <td>358500.0</td>\n",
       "    </tr>\n",
       "    <tr>\n",
       "      <td>2</td>\n",
       "      <td>-122.24</td>\n",
       "      <td>37.85</td>\n",
       "      <td>52.0</td>\n",
       "      <td>1467.0</td>\n",
       "      <td>190.0</td>\n",
       "      <td>496.0</td>\n",
       "      <td>177.0</td>\n",
       "      <td>7.2574</td>\n",
       "      <td>352100.0</td>\n",
       "    </tr>\n",
       "    <tr>\n",
       "      <td>3</td>\n",
       "      <td>-122.25</td>\n",
       "      <td>37.85</td>\n",
       "      <td>52.0</td>\n",
       "      <td>1274.0</td>\n",
       "      <td>235.0</td>\n",
       "      <td>558.0</td>\n",
       "      <td>219.0</td>\n",
       "      <td>5.6431</td>\n",
       "      <td>341300.0</td>\n",
       "    </tr>\n",
       "    <tr>\n",
       "      <td>4</td>\n",
       "      <td>-122.25</td>\n",
       "      <td>37.85</td>\n",
       "      <td>52.0</td>\n",
       "      <td>1627.0</td>\n",
       "      <td>280.0</td>\n",
       "      <td>565.0</td>\n",
       "      <td>259.0</td>\n",
       "      <td>3.8462</td>\n",
       "      <td>342200.0</td>\n",
       "    </tr>\n",
       "  </tbody>\n",
       "</table>\n",
       "</div>"
      ],
      "text/plain": [
       "   longitude  latitude  housing_median_age  total_rooms  total_bedrooms  \\\n",
       "0    -122.23     37.88                41.0        880.0           129.0   \n",
       "1    -122.22     37.86                21.0       7099.0          1106.0   \n",
       "2    -122.24     37.85                52.0       1467.0           190.0   \n",
       "3    -122.25     37.85                52.0       1274.0           235.0   \n",
       "4    -122.25     37.85                52.0       1627.0           280.0   \n",
       "\n",
       "   population  households  median_income  median_house_value  \n",
       "0       322.0       126.0         8.3252            452600.0  \n",
       "1      2401.0      1138.0         8.3014            358500.0  \n",
       "2       496.0       177.0         7.2574            352100.0  \n",
       "3       558.0       219.0         5.6431            341300.0  \n",
       "4       565.0       259.0         3.8462            342200.0  "
      ]
     },
     "execution_count": 130,
     "metadata": {},
     "output_type": "execute_result"
    }
   ],
   "source": [
    "# we can transpose it , once we check the duplciated column\n",
    "features.T.drop_duplicates(keep = 'first').T.head()"
   ]
  },
  {
   "cell_type": "markdown",
   "metadata": {},
   "source": [
    "# Detecting Outliers"
   ]
  },
  {
   "cell_type": "code",
   "execution_count": 131,
   "metadata": {},
   "outputs": [],
   "source": [
    "# for each column it computes the Z-score of each value in the column , relative to the column mean\n",
    "# and the standard deviation"
   ]
  },
  {
   "cell_type": "code",
   "execution_count": 132,
   "metadata": {},
   "outputs": [
    {
     "data": {
      "text/plain": [
       "array([[1.32783522, 1.05254828, 0.98214266, ..., 0.97703285, 2.34476576,\n",
       "        2.12963148],\n",
       "       [1.32284391, 1.04318455, 0.60701891, ..., 1.66996103, 2.33223796,\n",
       "        1.31415614],\n",
       "       [1.33282653, 1.03850269, 1.85618152, ..., 0.84363692, 1.7826994 ,\n",
       "        1.25869341],\n",
       "       ...,\n",
       "       [0.8237132 , 1.77823747, 0.92485123, ..., 0.17404163, 1.14259331,\n",
       "        0.99274649],\n",
       "       [0.87362627, 1.77823747, 0.84539315, ..., 0.39375258, 1.05458292,\n",
       "        1.05860847],\n",
       "       [0.83369581, 1.75014627, 1.00430931, ..., 0.07967221, 0.78012947,\n",
       "        1.01787803]])"
      ]
     },
     "execution_count": 132,
     "metadata": {},
     "output_type": "execute_result"
    }
   ],
   "source": [
    "from scipy import stats\n",
    "import numpy as np\n",
    "Z_score=np.abs(stats.zscore(features))\n",
    "Z_score # by looking this output , it is difficult to say which part is the outlier"
   ]
  },
  {
   "cell_type": "code",
   "execution_count": 133,
   "metadata": {},
   "outputs": [
    {
     "name": "stdout",
     "output_type": "stream",
     "text": [
      "(array([   95,    95,   104, ..., 20629, 20629, 20629], dtype=int64), array([4, 6, 4, ..., 4, 5, 6], dtype=int64))\n"
     ]
    }
   ],
   "source": [
    "threshold = 3 \n",
    "print(np.where(Z_score > 3)) # two arrays \n",
    "# the first array shows the list of row position,the second array shows the column position where we find outliers"
   ]
  },
  {
   "cell_type": "code",
   "execution_count": 134,
   "metadata": {
    "scrolled": true
   },
   "outputs": [
    {
     "name": "stdout",
     "output_type": "stream",
     "text": [
      "4.626241582839521\n"
     ]
    }
   ],
   "source": [
    "print(Z_score[95 ,4]) # these position has a Z_score value greater than 3 (prone to outlier)"
   ]
  },
  {
   "cell_type": "code",
   "execution_count": 135,
   "metadata": {},
   "outputs": [
    {
     "data": {
      "text/plain": [
       "(20640, 9)"
      ]
     },
     "execution_count": 135,
     "metadata": {},
     "output_type": "execute_result"
    }
   ],
   "source": [
    "features.shape # now lets remove the outliers"
   ]
  },
  {
   "cell_type": "code",
   "execution_count": 136,
   "metadata": {
    "scrolled": true
   },
   "outputs": [
    {
     "data": {
      "text/plain": [
       "(19746, 9)"
      ]
     },
     "execution_count": 136,
     "metadata": {},
     "output_type": "execute_result"
    }
   ],
   "source": [
    "# how to remove outliers\n",
    "features = features[(Z_score < 3).all(axis = 1)] # these means in all of the rows of specified columns \n",
    "# that satisfy the constraint Z_score < 3\n",
    "features.shape # 894 outliers out of 20640"
   ]
  },
  {
   "cell_type": "code",
   "execution_count": 137,
   "metadata": {},
   "outputs": [],
   "source": [
    "# we removed 894 datas , but sometimes removing datasets may cost as loss in informations\n",
    "# if removing outliers affect our project , we will replace them with the best guess(Imputation) "
   ]
  },
  {
   "cell_type": "markdown",
   "metadata": {},
   "source": [
    "# Handling Text And Categorical Attributes"
   ]
  },
  {
   "cell_type": "code",
   "execution_count": 138,
   "metadata": {
    "scrolled": true
   },
   "outputs": [
    {
     "data": {
      "text/plain": [
       "<1H OCEAN     9136\n",
       "INLAND        6551\n",
       "NEAR OCEAN    2658\n",
       "NEAR BAY      2290\n",
       "ISLAND           5\n",
       "Name: ocean_proximity, dtype: int64"
      ]
     },
     "execution_count": 138,
     "metadata": {},
     "output_type": "execute_result"
    }
   ],
   "source": [
    "housing['ocean_proximity'].value_counts()"
   ]
  },
  {
   "cell_type": "code",
   "execution_count": 139,
   "metadata": {
    "scrolled": true
   },
   "outputs": [
    {
     "data": {
      "text/plain": [
       "0        4.0\n",
       "1        4.0\n",
       "2        4.0\n",
       "3        4.0\n",
       "4        4.0\n",
       "        ... \n",
       "20635    2.0\n",
       "20636    2.0\n",
       "20637    2.0\n",
       "20638    2.0\n",
       "20639    2.0\n",
       "Name: ocean_proximity, Length: 20640, dtype: float64"
      ]
     },
     "execution_count": 139,
     "metadata": {},
     "output_type": "execute_result"
    }
   ],
   "source": [
    "# map using pandas\n",
    "housing['ocean_proximity'].map({'1H OCEAN':1 , 'INLAND':2 , 'NEAR OCEAN':3 , 'NEAR BAY':4 , 'ISLAND':5})"
   ]
  },
  {
   "cell_type": "code",
   "execution_count": 140,
   "metadata": {
    "scrolled": true
   },
   "outputs": [
    {
     "name": "stdout",
     "output_type": "stream",
     "text": [
      "[[3.]\n",
      " [3.]\n",
      " [3.]\n",
      " ...\n",
      " [1.]\n",
      " [1.]\n",
      " [1.]]\n"
     ]
    },
    {
     "data": {
      "text/plain": [
       "[array(['<1H OCEAN', 'INLAND', 'ISLAND', 'NEAR BAY', 'NEAR OCEAN'],\n",
       "       dtype=object)]"
      ]
     },
     "execution_count": 140,
     "metadata": {},
     "output_type": "execute_result"
    }
   ],
   "source": [
    "# using Scikit-Learn ordinal Encoder Class\n",
    "category=housing[['ocean_proximity']]\n",
    "from sklearn.preprocessing import OrdinalEncoder\n",
    "encoder=OrdinalEncoder()\n",
    "ordinal_encoding=encoder.fit_transform(category)\n",
    "print(ordinal_encoding)\n",
    "encoder.categories_"
   ]
  },
  {
   "cell_type": "code",
   "execution_count": 141,
   "metadata": {},
   "outputs": [],
   "source": [
    "# But since machine learning algorithm only uderstand numbers , it gives high decisive role for the larger \n",
    "# number , one way to avoid these is using OneHotEncoder , means making only one category Hot(1) at a time , \n",
    "# while others are cold(0)."
   ]
  },
  {
   "cell_type": "code",
   "execution_count": 142,
   "metadata": {
    "scrolled": false
   },
   "outputs": [
    {
     "data": {
      "text/html": [
       "<div>\n",
       "<style scoped>\n",
       "    .dataframe tbody tr th:only-of-type {\n",
       "        vertical-align: middle;\n",
       "    }\n",
       "\n",
       "    .dataframe tbody tr th {\n",
       "        vertical-align: top;\n",
       "    }\n",
       "\n",
       "    .dataframe thead th {\n",
       "        text-align: right;\n",
       "    }\n",
       "</style>\n",
       "<table border=\"1\" class=\"dataframe\">\n",
       "  <thead>\n",
       "    <tr style=\"text-align: right;\">\n",
       "      <th></th>\n",
       "      <th>&lt;1H OCEAN</th>\n",
       "      <th>INLAND</th>\n",
       "      <th>ISLAND</th>\n",
       "      <th>NEAR BAY</th>\n",
       "      <th>NEAR OCEAN</th>\n",
       "    </tr>\n",
       "  </thead>\n",
       "  <tbody>\n",
       "    <tr>\n",
       "      <td>0</td>\n",
       "      <td>0</td>\n",
       "      <td>0</td>\n",
       "      <td>0</td>\n",
       "      <td>1</td>\n",
       "      <td>0</td>\n",
       "    </tr>\n",
       "    <tr>\n",
       "      <td>1</td>\n",
       "      <td>0</td>\n",
       "      <td>0</td>\n",
       "      <td>0</td>\n",
       "      <td>1</td>\n",
       "      <td>0</td>\n",
       "    </tr>\n",
       "    <tr>\n",
       "      <td>2</td>\n",
       "      <td>0</td>\n",
       "      <td>0</td>\n",
       "      <td>0</td>\n",
       "      <td>1</td>\n",
       "      <td>0</td>\n",
       "    </tr>\n",
       "    <tr>\n",
       "      <td>3</td>\n",
       "      <td>0</td>\n",
       "      <td>0</td>\n",
       "      <td>0</td>\n",
       "      <td>1</td>\n",
       "      <td>0</td>\n",
       "    </tr>\n",
       "    <tr>\n",
       "      <td>4</td>\n",
       "      <td>0</td>\n",
       "      <td>0</td>\n",
       "      <td>0</td>\n",
       "      <td>1</td>\n",
       "      <td>0</td>\n",
       "    </tr>\n",
       "  </tbody>\n",
       "</table>\n",
       "</div>"
      ],
      "text/plain": [
       "   <1H OCEAN  INLAND  ISLAND  NEAR BAY  NEAR OCEAN\n",
       "0          0       0       0         1           0\n",
       "1          0       0       0         1           0\n",
       "2          0       0       0         1           0\n",
       "3          0       0       0         1           0\n",
       "4          0       0       0         1           0"
      ]
     },
     "execution_count": 142,
     "metadata": {},
     "output_type": "execute_result"
    }
   ],
   "source": [
    "# OneHot Encoding using pandas\n",
    "import pandas as pd # again for make it clear\n",
    "pd.get_dummies(housing['ocean_proximity']).head()"
   ]
  },
  {
   "cell_type": "code",
   "execution_count": 143,
   "metadata": {
    "scrolled": true
   },
   "outputs": [
    {
     "data": {
      "text/html": [
       "<div>\n",
       "<style scoped>\n",
       "    .dataframe tbody tr th:only-of-type {\n",
       "        vertical-align: middle;\n",
       "    }\n",
       "\n",
       "    .dataframe tbody tr th {\n",
       "        vertical-align: top;\n",
       "    }\n",
       "\n",
       "    .dataframe thead th {\n",
       "        text-align: right;\n",
       "    }\n",
       "</style>\n",
       "<table border=\"1\" class=\"dataframe\">\n",
       "  <thead>\n",
       "    <tr style=\"text-align: right;\">\n",
       "      <th></th>\n",
       "      <th>longitude</th>\n",
       "      <th>latitude</th>\n",
       "      <th>housing_median_age</th>\n",
       "      <th>total_rooms</th>\n",
       "      <th>total_bedrooms</th>\n",
       "      <th>population</th>\n",
       "      <th>households</th>\n",
       "      <th>median_income</th>\n",
       "      <th>median_house_value</th>\n",
       "      <th>&lt;1H OCEAN</th>\n",
       "      <th>INLAND</th>\n",
       "      <th>ISLAND</th>\n",
       "      <th>NEAR BAY</th>\n",
       "      <th>NEAR OCEAN</th>\n",
       "    </tr>\n",
       "  </thead>\n",
       "  <tbody>\n",
       "    <tr>\n",
       "      <td>0</td>\n",
       "      <td>-122.23</td>\n",
       "      <td>37.88</td>\n",
       "      <td>41.0</td>\n",
       "      <td>880.0</td>\n",
       "      <td>129.0</td>\n",
       "      <td>322.0</td>\n",
       "      <td>126.0</td>\n",
       "      <td>8.3252</td>\n",
       "      <td>452600.0</td>\n",
       "      <td>0</td>\n",
       "      <td>0</td>\n",
       "      <td>0</td>\n",
       "      <td>1</td>\n",
       "      <td>0</td>\n",
       "    </tr>\n",
       "    <tr>\n",
       "      <td>1</td>\n",
       "      <td>-122.22</td>\n",
       "      <td>37.86</td>\n",
       "      <td>21.0</td>\n",
       "      <td>7099.0</td>\n",
       "      <td>1106.0</td>\n",
       "      <td>2401.0</td>\n",
       "      <td>1138.0</td>\n",
       "      <td>8.3014</td>\n",
       "      <td>358500.0</td>\n",
       "      <td>0</td>\n",
       "      <td>0</td>\n",
       "      <td>0</td>\n",
       "      <td>1</td>\n",
       "      <td>0</td>\n",
       "    </tr>\n",
       "    <tr>\n",
       "      <td>2</td>\n",
       "      <td>-122.24</td>\n",
       "      <td>37.85</td>\n",
       "      <td>52.0</td>\n",
       "      <td>1467.0</td>\n",
       "      <td>190.0</td>\n",
       "      <td>496.0</td>\n",
       "      <td>177.0</td>\n",
       "      <td>7.2574</td>\n",
       "      <td>352100.0</td>\n",
       "      <td>0</td>\n",
       "      <td>0</td>\n",
       "      <td>0</td>\n",
       "      <td>1</td>\n",
       "      <td>0</td>\n",
       "    </tr>\n",
       "    <tr>\n",
       "      <td>3</td>\n",
       "      <td>-122.25</td>\n",
       "      <td>37.85</td>\n",
       "      <td>52.0</td>\n",
       "      <td>1274.0</td>\n",
       "      <td>235.0</td>\n",
       "      <td>558.0</td>\n",
       "      <td>219.0</td>\n",
       "      <td>5.6431</td>\n",
       "      <td>341300.0</td>\n",
       "      <td>0</td>\n",
       "      <td>0</td>\n",
       "      <td>0</td>\n",
       "      <td>1</td>\n",
       "      <td>0</td>\n",
       "    </tr>\n",
       "    <tr>\n",
       "      <td>4</td>\n",
       "      <td>-122.25</td>\n",
       "      <td>37.85</td>\n",
       "      <td>52.0</td>\n",
       "      <td>1627.0</td>\n",
       "      <td>280.0</td>\n",
       "      <td>565.0</td>\n",
       "      <td>259.0</td>\n",
       "      <td>3.8462</td>\n",
       "      <td>342200.0</td>\n",
       "      <td>0</td>\n",
       "      <td>0</td>\n",
       "      <td>0</td>\n",
       "      <td>1</td>\n",
       "      <td>0</td>\n",
       "    </tr>\n",
       "    <tr>\n",
       "      <td>...</td>\n",
       "      <td>...</td>\n",
       "      <td>...</td>\n",
       "      <td>...</td>\n",
       "      <td>...</td>\n",
       "      <td>...</td>\n",
       "      <td>...</td>\n",
       "      <td>...</td>\n",
       "      <td>...</td>\n",
       "      <td>...</td>\n",
       "      <td>...</td>\n",
       "      <td>...</td>\n",
       "      <td>...</td>\n",
       "      <td>...</td>\n",
       "      <td>...</td>\n",
       "    </tr>\n",
       "    <tr>\n",
       "      <td>20635</td>\n",
       "      <td>-121.09</td>\n",
       "      <td>39.48</td>\n",
       "      <td>25.0</td>\n",
       "      <td>1665.0</td>\n",
       "      <td>374.0</td>\n",
       "      <td>845.0</td>\n",
       "      <td>330.0</td>\n",
       "      <td>1.5603</td>\n",
       "      <td>78100.0</td>\n",
       "      <td>0</td>\n",
       "      <td>1</td>\n",
       "      <td>0</td>\n",
       "      <td>0</td>\n",
       "      <td>0</td>\n",
       "    </tr>\n",
       "    <tr>\n",
       "      <td>20636</td>\n",
       "      <td>-121.21</td>\n",
       "      <td>39.49</td>\n",
       "      <td>18.0</td>\n",
       "      <td>697.0</td>\n",
       "      <td>150.0</td>\n",
       "      <td>356.0</td>\n",
       "      <td>114.0</td>\n",
       "      <td>2.5568</td>\n",
       "      <td>77100.0</td>\n",
       "      <td>0</td>\n",
       "      <td>1</td>\n",
       "      <td>0</td>\n",
       "      <td>0</td>\n",
       "      <td>0</td>\n",
       "    </tr>\n",
       "    <tr>\n",
       "      <td>20637</td>\n",
       "      <td>-121.22</td>\n",
       "      <td>39.43</td>\n",
       "      <td>17.0</td>\n",
       "      <td>2254.0</td>\n",
       "      <td>485.0</td>\n",
       "      <td>1007.0</td>\n",
       "      <td>433.0</td>\n",
       "      <td>1.7000</td>\n",
       "      <td>92300.0</td>\n",
       "      <td>0</td>\n",
       "      <td>1</td>\n",
       "      <td>0</td>\n",
       "      <td>0</td>\n",
       "      <td>0</td>\n",
       "    </tr>\n",
       "    <tr>\n",
       "      <td>20638</td>\n",
       "      <td>-121.32</td>\n",
       "      <td>39.43</td>\n",
       "      <td>18.0</td>\n",
       "      <td>1860.0</td>\n",
       "      <td>409.0</td>\n",
       "      <td>741.0</td>\n",
       "      <td>349.0</td>\n",
       "      <td>1.8672</td>\n",
       "      <td>84700.0</td>\n",
       "      <td>0</td>\n",
       "      <td>1</td>\n",
       "      <td>0</td>\n",
       "      <td>0</td>\n",
       "      <td>0</td>\n",
       "    </tr>\n",
       "    <tr>\n",
       "      <td>20639</td>\n",
       "      <td>-121.24</td>\n",
       "      <td>39.37</td>\n",
       "      <td>16.0</td>\n",
       "      <td>2785.0</td>\n",
       "      <td>616.0</td>\n",
       "      <td>1387.0</td>\n",
       "      <td>530.0</td>\n",
       "      <td>2.3886</td>\n",
       "      <td>89400.0</td>\n",
       "      <td>0</td>\n",
       "      <td>1</td>\n",
       "      <td>0</td>\n",
       "      <td>0</td>\n",
       "      <td>0</td>\n",
       "    </tr>\n",
       "  </tbody>\n",
       "</table>\n",
       "<p>20640 rows × 14 columns</p>\n",
       "</div>"
      ],
      "text/plain": [
       "       longitude  latitude  housing_median_age  total_rooms  total_bedrooms  \\\n",
       "0        -122.23     37.88                41.0        880.0           129.0   \n",
       "1        -122.22     37.86                21.0       7099.0          1106.0   \n",
       "2        -122.24     37.85                52.0       1467.0           190.0   \n",
       "3        -122.25     37.85                52.0       1274.0           235.0   \n",
       "4        -122.25     37.85                52.0       1627.0           280.0   \n",
       "...          ...       ...                 ...          ...             ...   \n",
       "20635    -121.09     39.48                25.0       1665.0           374.0   \n",
       "20636    -121.21     39.49                18.0        697.0           150.0   \n",
       "20637    -121.22     39.43                17.0       2254.0           485.0   \n",
       "20638    -121.32     39.43                18.0       1860.0           409.0   \n",
       "20639    -121.24     39.37                16.0       2785.0           616.0   \n",
       "\n",
       "       population  households  median_income  median_house_value  <1H OCEAN  \\\n",
       "0           322.0       126.0         8.3252            452600.0          0   \n",
       "1          2401.0      1138.0         8.3014            358500.0          0   \n",
       "2           496.0       177.0         7.2574            352100.0          0   \n",
       "3           558.0       219.0         5.6431            341300.0          0   \n",
       "4           565.0       259.0         3.8462            342200.0          0   \n",
       "...           ...         ...            ...                 ...        ...   \n",
       "20635       845.0       330.0         1.5603             78100.0          0   \n",
       "20636       356.0       114.0         2.5568             77100.0          0   \n",
       "20637      1007.0       433.0         1.7000             92300.0          0   \n",
       "20638       741.0       349.0         1.8672             84700.0          0   \n",
       "20639      1387.0       530.0         2.3886             89400.0          0   \n",
       "\n",
       "       INLAND  ISLAND  NEAR BAY  NEAR OCEAN  \n",
       "0           0       0         1           0  \n",
       "1           0       0         1           0  \n",
       "2           0       0         1           0  \n",
       "3           0       0         1           0  \n",
       "4           0       0         1           0  \n",
       "...       ...     ...       ...         ...  \n",
       "20635       1       0         0           0  \n",
       "20636       1       0         0           0  \n",
       "20637       1       0         0           0  \n",
       "20638       1       0         0           0  \n",
       "20639       1       0         0           0  \n",
       "\n",
       "[20640 rows x 14 columns]"
      ]
     },
     "execution_count": 143,
     "metadata": {},
     "output_type": "execute_result"
    }
   ],
   "source": [
    "# Add the encoded data to the dataframe\n",
    "concat_features=pd.concat([features , pd.get_dummies(housing['ocean_proximity'])] , axis = 1)\n",
    "concat_features"
   ]
  },
  {
   "cell_type": "code",
   "execution_count": 144,
   "metadata": {},
   "outputs": [
    {
     "data": {
      "text/plain": [
       "Index(['longitude', 'latitude', 'housing_median_age', 'total_rooms',\n",
       "       'total_bedrooms', 'population', 'households', 'median_income',\n",
       "       'median_house_value', '<1H OCEAN', 'INLAND', 'ISLAND', 'NEAR BAY',\n",
       "       'NEAR OCEAN'],\n",
       "      dtype='object')"
      ]
     },
     "execution_count": 144,
     "metadata": {},
     "output_type": "execute_result"
    }
   ],
   "source": [
    "concat_features.columns"
   ]
  },
  {
   "cell_type": "code",
   "execution_count": 145,
   "metadata": {
    "scrolled": true
   },
   "outputs": [
    {
     "data": {
      "text/plain": [
       "<20640x5 sparse matrix of type '<class 'numpy.float64'>'\n",
       "\twith 20640 stored elements in Compressed Sparse Row format>"
      ]
     },
     "execution_count": 145,
     "metadata": {},
     "output_type": "execute_result"
    }
   ],
   "source": [
    "# OneHotEncoding using Scikit Learn\n",
    "category=housing[['ocean_proximity']]\n",
    "from sklearn.preprocessing import OneHotEncoder\n",
    "encoding=OneHotEncoder()\n",
    "encoded_category=encoding.fit_transform(category)\n",
    "encoded_category # the output is a sparse matrix"
   ]
  },
  {
   "cell_type": "code",
   "execution_count": 146,
   "metadata": {},
   "outputs": [
    {
     "data": {
      "text/plain": [
       "[array(['<1H OCEAN', 'INLAND', 'ISLAND', 'NEAR BAY', 'NEAR OCEAN'],\n",
       "       dtype=object)]"
      ]
     },
     "execution_count": 146,
     "metadata": {},
     "output_type": "execute_result"
    }
   ],
   "source": [
    "encoding.categories_"
   ]
  },
  {
   "cell_type": "code",
   "execution_count": 147,
   "metadata": {},
   "outputs": [],
   "source": [
    "# Sparse Matrix is a matrix where most of the coefficents(>50%) are Zero. This number does not contain \n",
    "# informations , just a waste of memory , so it is better to change them to a numpy array , where it only\n",
    "# stores the dense matrix(the one contains the useful information)"
   ]
  },
  {
   "cell_type": "code",
   "execution_count": 148,
   "metadata": {
    "scrolled": true
   },
   "outputs": [
    {
     "data": {
      "text/plain": [
       "array([[0., 0., 0., 1., 0.],\n",
       "       [0., 0., 0., 1., 0.],\n",
       "       [0., 0., 0., 1., 0.],\n",
       "       ...,\n",
       "       [0., 1., 0., 0., 0.],\n",
       "       [0., 1., 0., 0., 0.],\n",
       "       [0., 1., 0., 0., 0.]])"
      ]
     },
     "execution_count": 148,
     "metadata": {},
     "output_type": "execute_result"
    }
   ],
   "source": [
    "encoded_array=encoded_category.toarray()\n",
    "encoded_array"
   ]
  },
  {
   "cell_type": "code",
   "execution_count": 149,
   "metadata": {
    "scrolled": true
   },
   "outputs": [
    {
     "data": {
      "text/html": [
       "<div>\n",
       "<style scoped>\n",
       "    .dataframe tbody tr th:only-of-type {\n",
       "        vertical-align: middle;\n",
       "    }\n",
       "\n",
       "    .dataframe tbody tr th {\n",
       "        vertical-align: top;\n",
       "    }\n",
       "\n",
       "    .dataframe thead th {\n",
       "        text-align: right;\n",
       "    }\n",
       "</style>\n",
       "<table border=\"1\" class=\"dataframe\">\n",
       "  <thead>\n",
       "    <tr style=\"text-align: right;\">\n",
       "      <th></th>\n",
       "      <th>0</th>\n",
       "      <th>1</th>\n",
       "      <th>2</th>\n",
       "      <th>3</th>\n",
       "      <th>4</th>\n",
       "    </tr>\n",
       "  </thead>\n",
       "  <tbody>\n",
       "    <tr>\n",
       "      <td>0</td>\n",
       "      <td>0.0</td>\n",
       "      <td>0.0</td>\n",
       "      <td>0.0</td>\n",
       "      <td>1.0</td>\n",
       "      <td>0.0</td>\n",
       "    </tr>\n",
       "    <tr>\n",
       "      <td>1</td>\n",
       "      <td>0.0</td>\n",
       "      <td>0.0</td>\n",
       "      <td>0.0</td>\n",
       "      <td>1.0</td>\n",
       "      <td>0.0</td>\n",
       "    </tr>\n",
       "    <tr>\n",
       "      <td>2</td>\n",
       "      <td>0.0</td>\n",
       "      <td>0.0</td>\n",
       "      <td>0.0</td>\n",
       "      <td>1.0</td>\n",
       "      <td>0.0</td>\n",
       "    </tr>\n",
       "    <tr>\n",
       "      <td>3</td>\n",
       "      <td>0.0</td>\n",
       "      <td>0.0</td>\n",
       "      <td>0.0</td>\n",
       "      <td>1.0</td>\n",
       "      <td>0.0</td>\n",
       "    </tr>\n",
       "    <tr>\n",
       "      <td>4</td>\n",
       "      <td>0.0</td>\n",
       "      <td>0.0</td>\n",
       "      <td>0.0</td>\n",
       "      <td>1.0</td>\n",
       "      <td>0.0</td>\n",
       "    </tr>\n",
       "    <tr>\n",
       "      <td>...</td>\n",
       "      <td>...</td>\n",
       "      <td>...</td>\n",
       "      <td>...</td>\n",
       "      <td>...</td>\n",
       "      <td>...</td>\n",
       "    </tr>\n",
       "    <tr>\n",
       "      <td>20635</td>\n",
       "      <td>0.0</td>\n",
       "      <td>1.0</td>\n",
       "      <td>0.0</td>\n",
       "      <td>0.0</td>\n",
       "      <td>0.0</td>\n",
       "    </tr>\n",
       "    <tr>\n",
       "      <td>20636</td>\n",
       "      <td>0.0</td>\n",
       "      <td>1.0</td>\n",
       "      <td>0.0</td>\n",
       "      <td>0.0</td>\n",
       "      <td>0.0</td>\n",
       "    </tr>\n",
       "    <tr>\n",
       "      <td>20637</td>\n",
       "      <td>0.0</td>\n",
       "      <td>1.0</td>\n",
       "      <td>0.0</td>\n",
       "      <td>0.0</td>\n",
       "      <td>0.0</td>\n",
       "    </tr>\n",
       "    <tr>\n",
       "      <td>20638</td>\n",
       "      <td>0.0</td>\n",
       "      <td>1.0</td>\n",
       "      <td>0.0</td>\n",
       "      <td>0.0</td>\n",
       "      <td>0.0</td>\n",
       "    </tr>\n",
       "    <tr>\n",
       "      <td>20639</td>\n",
       "      <td>0.0</td>\n",
       "      <td>1.0</td>\n",
       "      <td>0.0</td>\n",
       "      <td>0.0</td>\n",
       "      <td>0.0</td>\n",
       "    </tr>\n",
       "  </tbody>\n",
       "</table>\n",
       "<p>20640 rows × 5 columns</p>\n",
       "</div>"
      ],
      "text/plain": [
       "         0    1    2    3    4\n",
       "0      0.0  0.0  0.0  1.0  0.0\n",
       "1      0.0  0.0  0.0  1.0  0.0\n",
       "2      0.0  0.0  0.0  1.0  0.0\n",
       "3      0.0  0.0  0.0  1.0  0.0\n",
       "4      0.0  0.0  0.0  1.0  0.0\n",
       "...    ...  ...  ...  ...  ...\n",
       "20635  0.0  1.0  0.0  0.0  0.0\n",
       "20636  0.0  1.0  0.0  0.0  0.0\n",
       "20637  0.0  1.0  0.0  0.0  0.0\n",
       "20638  0.0  1.0  0.0  0.0  0.0\n",
       "20639  0.0  1.0  0.0  0.0  0.0\n",
       "\n",
       "[20640 rows x 5 columns]"
      ]
     },
     "execution_count": 149,
     "metadata": {},
     "output_type": "execute_result"
    }
   ],
   "source": [
    "# lets join the categorical attribute with the our feature\n",
    "changed_encoded_array=pd.DataFrame(encoded_array)\n",
    "changed_encoded_array"
   ]
  },
  {
   "cell_type": "code",
   "execution_count": 150,
   "metadata": {},
   "outputs": [
    {
     "data": {
      "text/html": [
       "<div>\n",
       "<style scoped>\n",
       "    .dataframe tbody tr th:only-of-type {\n",
       "        vertical-align: middle;\n",
       "    }\n",
       "\n",
       "    .dataframe tbody tr th {\n",
       "        vertical-align: top;\n",
       "    }\n",
       "\n",
       "    .dataframe thead th {\n",
       "        text-align: right;\n",
       "    }\n",
       "</style>\n",
       "<table border=\"1\" class=\"dataframe\">\n",
       "  <thead>\n",
       "    <tr style=\"text-align: right;\">\n",
       "      <th></th>\n",
       "      <th>longitude</th>\n",
       "      <th>latitude</th>\n",
       "      <th>housing_median_age</th>\n",
       "      <th>total_rooms</th>\n",
       "      <th>total_bedrooms</th>\n",
       "      <th>population</th>\n",
       "      <th>households</th>\n",
       "      <th>median_income</th>\n",
       "      <th>median_house_value</th>\n",
       "      <th>0</th>\n",
       "      <th>1</th>\n",
       "      <th>2</th>\n",
       "      <th>3</th>\n",
       "      <th>4</th>\n",
       "    </tr>\n",
       "  </thead>\n",
       "  <tbody>\n",
       "    <tr>\n",
       "      <td>0</td>\n",
       "      <td>-122.23</td>\n",
       "      <td>37.88</td>\n",
       "      <td>41.0</td>\n",
       "      <td>880.0</td>\n",
       "      <td>129.0</td>\n",
       "      <td>322.0</td>\n",
       "      <td>126.0</td>\n",
       "      <td>8.3252</td>\n",
       "      <td>452600.0</td>\n",
       "      <td>0.0</td>\n",
       "      <td>0.0</td>\n",
       "      <td>0.0</td>\n",
       "      <td>1.0</td>\n",
       "      <td>0.0</td>\n",
       "    </tr>\n",
       "    <tr>\n",
       "      <td>1</td>\n",
       "      <td>-122.22</td>\n",
       "      <td>37.86</td>\n",
       "      <td>21.0</td>\n",
       "      <td>7099.0</td>\n",
       "      <td>1106.0</td>\n",
       "      <td>2401.0</td>\n",
       "      <td>1138.0</td>\n",
       "      <td>8.3014</td>\n",
       "      <td>358500.0</td>\n",
       "      <td>0.0</td>\n",
       "      <td>0.0</td>\n",
       "      <td>0.0</td>\n",
       "      <td>1.0</td>\n",
       "      <td>0.0</td>\n",
       "    </tr>\n",
       "    <tr>\n",
       "      <td>2</td>\n",
       "      <td>-122.24</td>\n",
       "      <td>37.85</td>\n",
       "      <td>52.0</td>\n",
       "      <td>1467.0</td>\n",
       "      <td>190.0</td>\n",
       "      <td>496.0</td>\n",
       "      <td>177.0</td>\n",
       "      <td>7.2574</td>\n",
       "      <td>352100.0</td>\n",
       "      <td>0.0</td>\n",
       "      <td>0.0</td>\n",
       "      <td>0.0</td>\n",
       "      <td>1.0</td>\n",
       "      <td>0.0</td>\n",
       "    </tr>\n",
       "    <tr>\n",
       "      <td>3</td>\n",
       "      <td>-122.25</td>\n",
       "      <td>37.85</td>\n",
       "      <td>52.0</td>\n",
       "      <td>1274.0</td>\n",
       "      <td>235.0</td>\n",
       "      <td>558.0</td>\n",
       "      <td>219.0</td>\n",
       "      <td>5.6431</td>\n",
       "      <td>341300.0</td>\n",
       "      <td>0.0</td>\n",
       "      <td>0.0</td>\n",
       "      <td>0.0</td>\n",
       "      <td>1.0</td>\n",
       "      <td>0.0</td>\n",
       "    </tr>\n",
       "    <tr>\n",
       "      <td>4</td>\n",
       "      <td>-122.25</td>\n",
       "      <td>37.85</td>\n",
       "      <td>52.0</td>\n",
       "      <td>1627.0</td>\n",
       "      <td>280.0</td>\n",
       "      <td>565.0</td>\n",
       "      <td>259.0</td>\n",
       "      <td>3.8462</td>\n",
       "      <td>342200.0</td>\n",
       "      <td>0.0</td>\n",
       "      <td>0.0</td>\n",
       "      <td>0.0</td>\n",
       "      <td>1.0</td>\n",
       "      <td>0.0</td>\n",
       "    </tr>\n",
       "    <tr>\n",
       "      <td>...</td>\n",
       "      <td>...</td>\n",
       "      <td>...</td>\n",
       "      <td>...</td>\n",
       "      <td>...</td>\n",
       "      <td>...</td>\n",
       "      <td>...</td>\n",
       "      <td>...</td>\n",
       "      <td>...</td>\n",
       "      <td>...</td>\n",
       "      <td>...</td>\n",
       "      <td>...</td>\n",
       "      <td>...</td>\n",
       "      <td>...</td>\n",
       "      <td>...</td>\n",
       "    </tr>\n",
       "    <tr>\n",
       "      <td>20635</td>\n",
       "      <td>-121.09</td>\n",
       "      <td>39.48</td>\n",
       "      <td>25.0</td>\n",
       "      <td>1665.0</td>\n",
       "      <td>374.0</td>\n",
       "      <td>845.0</td>\n",
       "      <td>330.0</td>\n",
       "      <td>1.5603</td>\n",
       "      <td>78100.0</td>\n",
       "      <td>0.0</td>\n",
       "      <td>1.0</td>\n",
       "      <td>0.0</td>\n",
       "      <td>0.0</td>\n",
       "      <td>0.0</td>\n",
       "    </tr>\n",
       "    <tr>\n",
       "      <td>20636</td>\n",
       "      <td>-121.21</td>\n",
       "      <td>39.49</td>\n",
       "      <td>18.0</td>\n",
       "      <td>697.0</td>\n",
       "      <td>150.0</td>\n",
       "      <td>356.0</td>\n",
       "      <td>114.0</td>\n",
       "      <td>2.5568</td>\n",
       "      <td>77100.0</td>\n",
       "      <td>0.0</td>\n",
       "      <td>1.0</td>\n",
       "      <td>0.0</td>\n",
       "      <td>0.0</td>\n",
       "      <td>0.0</td>\n",
       "    </tr>\n",
       "    <tr>\n",
       "      <td>20637</td>\n",
       "      <td>-121.22</td>\n",
       "      <td>39.43</td>\n",
       "      <td>17.0</td>\n",
       "      <td>2254.0</td>\n",
       "      <td>485.0</td>\n",
       "      <td>1007.0</td>\n",
       "      <td>433.0</td>\n",
       "      <td>1.7000</td>\n",
       "      <td>92300.0</td>\n",
       "      <td>0.0</td>\n",
       "      <td>1.0</td>\n",
       "      <td>0.0</td>\n",
       "      <td>0.0</td>\n",
       "      <td>0.0</td>\n",
       "    </tr>\n",
       "    <tr>\n",
       "      <td>20638</td>\n",
       "      <td>-121.32</td>\n",
       "      <td>39.43</td>\n",
       "      <td>18.0</td>\n",
       "      <td>1860.0</td>\n",
       "      <td>409.0</td>\n",
       "      <td>741.0</td>\n",
       "      <td>349.0</td>\n",
       "      <td>1.8672</td>\n",
       "      <td>84700.0</td>\n",
       "      <td>0.0</td>\n",
       "      <td>1.0</td>\n",
       "      <td>0.0</td>\n",
       "      <td>0.0</td>\n",
       "      <td>0.0</td>\n",
       "    </tr>\n",
       "    <tr>\n",
       "      <td>20639</td>\n",
       "      <td>-121.24</td>\n",
       "      <td>39.37</td>\n",
       "      <td>16.0</td>\n",
       "      <td>2785.0</td>\n",
       "      <td>616.0</td>\n",
       "      <td>1387.0</td>\n",
       "      <td>530.0</td>\n",
       "      <td>2.3886</td>\n",
       "      <td>89400.0</td>\n",
       "      <td>0.0</td>\n",
       "      <td>1.0</td>\n",
       "      <td>0.0</td>\n",
       "      <td>0.0</td>\n",
       "      <td>0.0</td>\n",
       "    </tr>\n",
       "  </tbody>\n",
       "</table>\n",
       "<p>19746 rows × 14 columns</p>\n",
       "</div>"
      ],
      "text/plain": [
       "       longitude  latitude  housing_median_age  total_rooms  total_bedrooms  \\\n",
       "0        -122.23     37.88                41.0        880.0           129.0   \n",
       "1        -122.22     37.86                21.0       7099.0          1106.0   \n",
       "2        -122.24     37.85                52.0       1467.0           190.0   \n",
       "3        -122.25     37.85                52.0       1274.0           235.0   \n",
       "4        -122.25     37.85                52.0       1627.0           280.0   \n",
       "...          ...       ...                 ...          ...             ...   \n",
       "20635    -121.09     39.48                25.0       1665.0           374.0   \n",
       "20636    -121.21     39.49                18.0        697.0           150.0   \n",
       "20637    -121.22     39.43                17.0       2254.0           485.0   \n",
       "20638    -121.32     39.43                18.0       1860.0           409.0   \n",
       "20639    -121.24     39.37                16.0       2785.0           616.0   \n",
       "\n",
       "       population  households  median_income  median_house_value    0    1  \\\n",
       "0           322.0       126.0         8.3252            452600.0  0.0  0.0   \n",
       "1          2401.0      1138.0         8.3014            358500.0  0.0  0.0   \n",
       "2           496.0       177.0         7.2574            352100.0  0.0  0.0   \n",
       "3           558.0       219.0         5.6431            341300.0  0.0  0.0   \n",
       "4           565.0       259.0         3.8462            342200.0  0.0  0.0   \n",
       "...           ...         ...            ...                 ...  ...  ...   \n",
       "20635       845.0       330.0         1.5603             78100.0  0.0  1.0   \n",
       "20636       356.0       114.0         2.5568             77100.0  0.0  1.0   \n",
       "20637      1007.0       433.0         1.7000             92300.0  0.0  1.0   \n",
       "20638       741.0       349.0         1.8672             84700.0  0.0  1.0   \n",
       "20639      1387.0       530.0         2.3886             89400.0  0.0  1.0   \n",
       "\n",
       "         2    3    4  \n",
       "0      0.0  1.0  0.0  \n",
       "1      0.0  1.0  0.0  \n",
       "2      0.0  1.0  0.0  \n",
       "3      0.0  1.0  0.0  \n",
       "4      0.0  1.0  0.0  \n",
       "...    ...  ...  ...  \n",
       "20635  0.0  0.0  0.0  \n",
       "20636  0.0  0.0  0.0  \n",
       "20637  0.0  0.0  0.0  \n",
       "20638  0.0  0.0  0.0  \n",
       "20639  0.0  0.0  0.0  \n",
       "\n",
       "[19746 rows x 14 columns]"
      ]
     },
     "execution_count": 150,
     "metadata": {},
     "output_type": "execute_result"
    }
   ],
   "source": [
    "features=features.join(changed_encoded_array)\n",
    "features"
   ]
  },
  {
   "cell_type": "markdown",
   "metadata": {},
   "source": [
    "# Feature Scaling"
   ]
  },
  {
   "cell_type": "code",
   "execution_count": 151,
   "metadata": {},
   "outputs": [],
   "source": [
    "# it is a process of making the independant variables fall out in to a similar scale inorder to compare\n",
    "# there attributes , cause machine learning algorithms only understands numbers , they will favour the \n",
    "# decisive role to the features with more rangeof numbers"
   ]
  },
  {
   "cell_type": "code",
   "execution_count": 152,
   "metadata": {},
   "outputs": [],
   "source": [
    "# Two ways to Scale our features\n",
    "from sklearn.preprocessing import MinMaxScaler\n",
    "scaled_features = MinMaxScaler()\n",
    "scaled_features.fit(features)\n",
    "X=scaled_features.transform(features)"
   ]
  },
  {
   "cell_type": "code",
   "execution_count": 153,
   "metadata": {},
   "outputs": [
    {
     "data": {
      "text/plain": [
       "array([[0.21115538, 0.5674814 , 0.78431373, ..., 0.        , 1.        ,\n",
       "        0.        ],\n",
       "       [0.21215139, 0.565356  , 0.39215686, ..., 0.        , 1.        ,\n",
       "        0.        ],\n",
       "       [0.21015936, 0.5642933 , 1.        , ..., 0.        , 1.        ,\n",
       "        0.        ],\n",
       "       ...,\n",
       "       [0.31175299, 0.73219979, 0.31372549, ..., 0.        , 0.        ,\n",
       "        0.        ],\n",
       "       [0.30179283, 0.73219979, 0.33333333, ..., 0.        , 0.        ,\n",
       "        0.        ],\n",
       "       [0.30976096, 0.72582359, 0.29411765, ..., 0.        , 0.        ,\n",
       "        0.        ]])"
      ]
     },
     "execution_count": 153,
     "metadata": {},
     "output_type": "execute_result"
    }
   ],
   "source": [
    "X # the transformed scaled features is a plain numpy array , we can change it to a pandas dataframe"
   ]
  },
  {
   "cell_type": "code",
   "execution_count": 154,
   "metadata": {},
   "outputs": [
    {
     "data": {
      "text/html": [
       "<div>\n",
       "<style scoped>\n",
       "    .dataframe tbody tr th:only-of-type {\n",
       "        vertical-align: middle;\n",
       "    }\n",
       "\n",
       "    .dataframe tbody tr th {\n",
       "        vertical-align: top;\n",
       "    }\n",
       "\n",
       "    .dataframe thead th {\n",
       "        text-align: right;\n",
       "    }\n",
       "</style>\n",
       "<table border=\"1\" class=\"dataframe\">\n",
       "  <thead>\n",
       "    <tr style=\"text-align: right;\">\n",
       "      <th></th>\n",
       "      <th>longitude</th>\n",
       "      <th>latitude</th>\n",
       "      <th>housing_median_age</th>\n",
       "      <th>total_rooms</th>\n",
       "      <th>total_bedrooms</th>\n",
       "      <th>population</th>\n",
       "      <th>households</th>\n",
       "      <th>median_income</th>\n",
       "      <th>median_house_value</th>\n",
       "      <th>0</th>\n",
       "      <th>1</th>\n",
       "      <th>2</th>\n",
       "      <th>3</th>\n",
       "      <th>4</th>\n",
       "    </tr>\n",
       "  </thead>\n",
       "  <tbody>\n",
       "    <tr>\n",
       "      <td>0</td>\n",
       "      <td>0.211155</td>\n",
       "      <td>0.567481</td>\n",
       "      <td>0.784314</td>\n",
       "      <td>0.095674</td>\n",
       "      <td>0.071388</td>\n",
       "      <td>0.066251</td>\n",
       "      <td>0.075518</td>\n",
       "      <td>0.864082</td>\n",
       "      <td>0.902266</td>\n",
       "      <td>0.0</td>\n",
       "      <td>0.0</td>\n",
       "      <td>0.0</td>\n",
       "      <td>1.0</td>\n",
       "      <td>0.0</td>\n",
       "    </tr>\n",
       "    <tr>\n",
       "      <td>1</td>\n",
       "      <td>0.212151</td>\n",
       "      <td>0.565356</td>\n",
       "      <td>0.392157</td>\n",
       "      <td>0.773346</td>\n",
       "      <td>0.620573</td>\n",
       "      <td>0.498027</td>\n",
       "      <td>0.691839</td>\n",
       "      <td>0.861454</td>\n",
       "      <td>0.708247</td>\n",
       "      <td>0.0</td>\n",
       "      <td>0.0</td>\n",
       "      <td>0.0</td>\n",
       "      <td>1.0</td>\n",
       "      <td>0.0</td>\n",
       "    </tr>\n",
       "    <tr>\n",
       "      <td>2</td>\n",
       "      <td>0.210159</td>\n",
       "      <td>0.564293</td>\n",
       "      <td>1.000000</td>\n",
       "      <td>0.159638</td>\n",
       "      <td>0.105677</td>\n",
       "      <td>0.102388</td>\n",
       "      <td>0.106577</td>\n",
       "      <td>0.746174</td>\n",
       "      <td>0.695051</td>\n",
       "      <td>0.0</td>\n",
       "      <td>0.0</td>\n",
       "      <td>0.0</td>\n",
       "      <td>1.0</td>\n",
       "      <td>0.0</td>\n",
       "    </tr>\n",
       "    <tr>\n",
       "      <td>3</td>\n",
       "      <td>0.209163</td>\n",
       "      <td>0.564293</td>\n",
       "      <td>1.000000</td>\n",
       "      <td>0.138607</td>\n",
       "      <td>0.130972</td>\n",
       "      <td>0.115265</td>\n",
       "      <td>0.132156</td>\n",
       "      <td>0.567920</td>\n",
       "      <td>0.672783</td>\n",
       "      <td>0.0</td>\n",
       "      <td>0.0</td>\n",
       "      <td>0.0</td>\n",
       "      <td>1.0</td>\n",
       "      <td>0.0</td>\n",
       "    </tr>\n",
       "    <tr>\n",
       "      <td>4</td>\n",
       "      <td>0.209163</td>\n",
       "      <td>0.564293</td>\n",
       "      <td>1.000000</td>\n",
       "      <td>0.177073</td>\n",
       "      <td>0.156268</td>\n",
       "      <td>0.116719</td>\n",
       "      <td>0.156516</td>\n",
       "      <td>0.369504</td>\n",
       "      <td>0.674638</td>\n",
       "      <td>0.0</td>\n",
       "      <td>0.0</td>\n",
       "      <td>0.0</td>\n",
       "      <td>1.0</td>\n",
       "      <td>0.0</td>\n",
       "    </tr>\n",
       "  </tbody>\n",
       "</table>\n",
       "</div>"
      ],
      "text/plain": [
       "   longitude  latitude  housing_median_age  total_rooms  total_bedrooms  \\\n",
       "0   0.211155  0.567481            0.784314     0.095674        0.071388   \n",
       "1   0.212151  0.565356            0.392157     0.773346        0.620573   \n",
       "2   0.210159  0.564293            1.000000     0.159638        0.105677   \n",
       "3   0.209163  0.564293            1.000000     0.138607        0.130972   \n",
       "4   0.209163  0.564293            1.000000     0.177073        0.156268   \n",
       "\n",
       "   population  households  median_income  median_house_value    0    1    2  \\\n",
       "0    0.066251    0.075518       0.864082            0.902266  0.0  0.0  0.0   \n",
       "1    0.498027    0.691839       0.861454            0.708247  0.0  0.0  0.0   \n",
       "2    0.102388    0.106577       0.746174            0.695051  0.0  0.0  0.0   \n",
       "3    0.115265    0.132156       0.567920            0.672783  0.0  0.0  0.0   \n",
       "4    0.116719    0.156516       0.369504            0.674638  0.0  0.0  0.0   \n",
       "\n",
       "     3    4  \n",
       "0  1.0  0.0  \n",
       "1  1.0  0.0  \n",
       "2  1.0  0.0  \n",
       "3  1.0  0.0  \n",
       "4  1.0  0.0  "
      ]
     },
     "execution_count": 154,
     "metadata": {},
     "output_type": "execute_result"
    }
   ],
   "source": [
    "# changing the plain numpy array to a pandas dataframe\n",
    "features=pd.DataFrame(X , columns = features.columns)\n",
    "features.head()"
   ]
  },
  {
   "cell_type": "code",
   "execution_count": 155,
   "metadata": {
    "scrolled": true
   },
   "outputs": [
    {
     "data": {
      "text/plain": [
       "array([[-1.32040813,  1.0389946 ,  0.96483669, ..., -0.01591477,\n",
       "         2.82697776, -0.38404367],\n",
       "       [-1.31541556,  1.02966872, -0.64591639, ..., -0.01591477,\n",
       "         2.82697776, -0.38404367],\n",
       "       [-1.32540069,  1.02500578,  1.85075089, ..., -0.01591477,\n",
       "         2.82697776, -0.38404367],\n",
       "       ...,\n",
       "       [-0.81615912,  1.76175006, -0.96806701, ..., -0.01591477,\n",
       "        -0.35373465, -0.38404367],\n",
       "       [-0.86608477,  1.76175006, -0.88752936, ..., -0.01591477,\n",
       "        -0.35373465, -0.38404367],\n",
       "       [-0.82614425,  1.73377243, -1.04860467, ..., -0.01591477,\n",
       "        -0.35373465, -0.38404367]])"
      ]
     },
     "execution_count": 155,
     "metadata": {},
     "output_type": "execute_result"
    }
   ],
   "source": [
    "# but Min-Max Scaler can't handle outliers , another method called Standardization\n",
    "from sklearn.preprocessing import StandardScaler\n",
    "scaled_features=StandardScaler()\n",
    "X=scaled_features.fit_transform(features)\n",
    "X # unlike min-max scaler this does notbound the features in to known range"
   ]
  },
  {
   "cell_type": "code",
   "execution_count": 156,
   "metadata": {
    "scrolled": true
   },
   "outputs": [
    {
     "data": {
      "text/html": [
       "<div>\n",
       "<style scoped>\n",
       "    .dataframe tbody tr th:only-of-type {\n",
       "        vertical-align: middle;\n",
       "    }\n",
       "\n",
       "    .dataframe tbody tr th {\n",
       "        vertical-align: top;\n",
       "    }\n",
       "\n",
       "    .dataframe thead th {\n",
       "        text-align: right;\n",
       "    }\n",
       "</style>\n",
       "<table border=\"1\" class=\"dataframe\">\n",
       "  <thead>\n",
       "    <tr style=\"text-align: right;\">\n",
       "      <th></th>\n",
       "      <th>longitude</th>\n",
       "      <th>latitude</th>\n",
       "      <th>housing_median_age</th>\n",
       "      <th>total_rooms</th>\n",
       "      <th>total_bedrooms</th>\n",
       "      <th>population</th>\n",
       "      <th>households</th>\n",
       "      <th>median_income</th>\n",
       "      <th>median_house_value</th>\n",
       "      <th>0</th>\n",
       "      <th>1</th>\n",
       "      <th>2</th>\n",
       "      <th>3</th>\n",
       "      <th>4</th>\n",
       "    </tr>\n",
       "  </thead>\n",
       "  <tbody>\n",
       "    <tr>\n",
       "      <td>0</td>\n",
       "      <td>-1.320408</td>\n",
       "      <td>1.038995</td>\n",
       "      <td>0.964837</td>\n",
       "      <td>-1.053400</td>\n",
       "      <td>-1.258623</td>\n",
       "      <td>-1.280730</td>\n",
       "      <td>-1.250056</td>\n",
       "      <td>2.872000</td>\n",
       "      <td>2.266531</td>\n",
       "      <td>-0.887933</td>\n",
       "      <td>-0.68466</td>\n",
       "      <td>-0.015915</td>\n",
       "      <td>2.826978</td>\n",
       "      <td>-0.384044</td>\n",
       "    </tr>\n",
       "    <tr>\n",
       "      <td>1</td>\n",
       "      <td>-1.315416</td>\n",
       "      <td>1.029669</td>\n",
       "      <td>-0.645916</td>\n",
       "      <td>3.281952</td>\n",
       "      <td>2.118327</td>\n",
       "      <td>1.409319</td>\n",
       "      <td>2.531830</td>\n",
       "      <td>2.857142</td>\n",
       "      <td>1.416062</td>\n",
       "      <td>-0.887933</td>\n",
       "      <td>-0.68466</td>\n",
       "      <td>-0.015915</td>\n",
       "      <td>2.826978</td>\n",
       "      <td>-0.384044</td>\n",
       "    </tr>\n",
       "    <tr>\n",
       "      <td>2</td>\n",
       "      <td>-1.325401</td>\n",
       "      <td>1.025006</td>\n",
       "      <td>1.850751</td>\n",
       "      <td>-0.644194</td>\n",
       "      <td>-1.047779</td>\n",
       "      <td>-1.055589</td>\n",
       "      <td>-1.059467</td>\n",
       "      <td>2.205358</td>\n",
       "      <td>1.358219</td>\n",
       "      <td>-0.887933</td>\n",
       "      <td>-0.68466</td>\n",
       "      <td>-0.015915</td>\n",
       "      <td>2.826978</td>\n",
       "      <td>-0.384044</td>\n",
       "    </tr>\n",
       "    <tr>\n",
       "      <td>3</td>\n",
       "      <td>-1.330393</td>\n",
       "      <td>1.025006</td>\n",
       "      <td>1.850751</td>\n",
       "      <td>-0.778737</td>\n",
       "      <td>-0.892239</td>\n",
       "      <td>-0.975366</td>\n",
       "      <td>-0.902511</td>\n",
       "      <td>1.197528</td>\n",
       "      <td>1.260610</td>\n",
       "      <td>-0.887933</td>\n",
       "      <td>-0.68466</td>\n",
       "      <td>-0.015915</td>\n",
       "      <td>2.826978</td>\n",
       "      <td>-0.384044</td>\n",
       "    </tr>\n",
       "    <tr>\n",
       "      <td>4</td>\n",
       "      <td>-1.330393</td>\n",
       "      <td>1.025006</td>\n",
       "      <td>1.850751</td>\n",
       "      <td>-0.532656</td>\n",
       "      <td>-0.736699</td>\n",
       "      <td>-0.966309</td>\n",
       "      <td>-0.753029</td>\n",
       "      <td>0.075698</td>\n",
       "      <td>1.268744</td>\n",
       "      <td>-0.887933</td>\n",
       "      <td>-0.68466</td>\n",
       "      <td>-0.015915</td>\n",
       "      <td>2.826978</td>\n",
       "      <td>-0.384044</td>\n",
       "    </tr>\n",
       "  </tbody>\n",
       "</table>\n",
       "</div>"
      ],
      "text/plain": [
       "   longitude  latitude  housing_median_age  total_rooms  total_bedrooms  \\\n",
       "0  -1.320408  1.038995            0.964837    -1.053400       -1.258623   \n",
       "1  -1.315416  1.029669           -0.645916     3.281952        2.118327   \n",
       "2  -1.325401  1.025006            1.850751    -0.644194       -1.047779   \n",
       "3  -1.330393  1.025006            1.850751    -0.778737       -0.892239   \n",
       "4  -1.330393  1.025006            1.850751    -0.532656       -0.736699   \n",
       "\n",
       "   population  households  median_income  median_house_value         0  \\\n",
       "0   -1.280730   -1.250056       2.872000            2.266531 -0.887933   \n",
       "1    1.409319    2.531830       2.857142            1.416062 -0.887933   \n",
       "2   -1.055589   -1.059467       2.205358            1.358219 -0.887933   \n",
       "3   -0.975366   -0.902511       1.197528            1.260610 -0.887933   \n",
       "4   -0.966309   -0.753029       0.075698            1.268744 -0.887933   \n",
       "\n",
       "         1         2         3         4  \n",
       "0 -0.68466 -0.015915  2.826978 -0.384044  \n",
       "1 -0.68466 -0.015915  2.826978 -0.384044  \n",
       "2 -0.68466 -0.015915  2.826978 -0.384044  \n",
       "3 -0.68466 -0.015915  2.826978 -0.384044  \n",
       "4 -0.68466 -0.015915  2.826978 -0.384044  "
      ]
     },
     "execution_count": 156,
     "metadata": {},
     "output_type": "execute_result"
    }
   ],
   "source": [
    "# changing the plain numpy array to pandas dataframe\n",
    "new_features=pd.DataFrame(X , columns = features.columns)\n",
    "new_features.head() # but it is better for me to detect outlierd first and use min-max scaler"
   ]
  },
  {
   "cell_type": "code",
   "execution_count": 157,
   "metadata": {
    "scrolled": false
   },
   "outputs": [
    {
     "data": {
      "text/html": [
       "<div>\n",
       "<style scoped>\n",
       "    .dataframe tbody tr th:only-of-type {\n",
       "        vertical-align: middle;\n",
       "    }\n",
       "\n",
       "    .dataframe tbody tr th {\n",
       "        vertical-align: top;\n",
       "    }\n",
       "\n",
       "    .dataframe thead th {\n",
       "        text-align: right;\n",
       "    }\n",
       "</style>\n",
       "<table border=\"1\" class=\"dataframe\">\n",
       "  <thead>\n",
       "    <tr style=\"text-align: right;\">\n",
       "      <th></th>\n",
       "      <th>longitude</th>\n",
       "      <th>latitude</th>\n",
       "      <th>housing_median_age</th>\n",
       "      <th>total_rooms</th>\n",
       "      <th>total_bedrooms</th>\n",
       "      <th>population</th>\n",
       "      <th>households</th>\n",
       "      <th>median_income</th>\n",
       "      <th>median_house_value</th>\n",
       "      <th>0</th>\n",
       "      <th>1</th>\n",
       "      <th>2</th>\n",
       "      <th>3</th>\n",
       "      <th>4</th>\n",
       "    </tr>\n",
       "  </thead>\n",
       "  <tbody>\n",
       "    <tr>\n",
       "      <td>0</td>\n",
       "      <td>0.211155</td>\n",
       "      <td>0.567481</td>\n",
       "      <td>0.784314</td>\n",
       "      <td>0.095674</td>\n",
       "      <td>0.071388</td>\n",
       "      <td>0.066251</td>\n",
       "      <td>0.075518</td>\n",
       "      <td>0.864082</td>\n",
       "      <td>0.902266</td>\n",
       "      <td>0.0</td>\n",
       "      <td>0.0</td>\n",
       "      <td>0.0</td>\n",
       "      <td>1.0</td>\n",
       "      <td>0.0</td>\n",
       "    </tr>\n",
       "    <tr>\n",
       "      <td>1</td>\n",
       "      <td>0.212151</td>\n",
       "      <td>0.565356</td>\n",
       "      <td>0.392157</td>\n",
       "      <td>0.773346</td>\n",
       "      <td>0.620573</td>\n",
       "      <td>0.498027</td>\n",
       "      <td>0.691839</td>\n",
       "      <td>0.861454</td>\n",
       "      <td>0.708247</td>\n",
       "      <td>0.0</td>\n",
       "      <td>0.0</td>\n",
       "      <td>0.0</td>\n",
       "      <td>1.0</td>\n",
       "      <td>0.0</td>\n",
       "    </tr>\n",
       "    <tr>\n",
       "      <td>2</td>\n",
       "      <td>0.210159</td>\n",
       "      <td>0.564293</td>\n",
       "      <td>1.000000</td>\n",
       "      <td>0.159638</td>\n",
       "      <td>0.105677</td>\n",
       "      <td>0.102388</td>\n",
       "      <td>0.106577</td>\n",
       "      <td>0.746174</td>\n",
       "      <td>0.695051</td>\n",
       "      <td>0.0</td>\n",
       "      <td>0.0</td>\n",
       "      <td>0.0</td>\n",
       "      <td>1.0</td>\n",
       "      <td>0.0</td>\n",
       "    </tr>\n",
       "    <tr>\n",
       "      <td>3</td>\n",
       "      <td>0.209163</td>\n",
       "      <td>0.564293</td>\n",
       "      <td>1.000000</td>\n",
       "      <td>0.138607</td>\n",
       "      <td>0.130972</td>\n",
       "      <td>0.115265</td>\n",
       "      <td>0.132156</td>\n",
       "      <td>0.567920</td>\n",
       "      <td>0.672783</td>\n",
       "      <td>0.0</td>\n",
       "      <td>0.0</td>\n",
       "      <td>0.0</td>\n",
       "      <td>1.0</td>\n",
       "      <td>0.0</td>\n",
       "    </tr>\n",
       "    <tr>\n",
       "      <td>4</td>\n",
       "      <td>0.209163</td>\n",
       "      <td>0.564293</td>\n",
       "      <td>1.000000</td>\n",
       "      <td>0.177073</td>\n",
       "      <td>0.156268</td>\n",
       "      <td>0.116719</td>\n",
       "      <td>0.156516</td>\n",
       "      <td>0.369504</td>\n",
       "      <td>0.674638</td>\n",
       "      <td>0.0</td>\n",
       "      <td>0.0</td>\n",
       "      <td>0.0</td>\n",
       "      <td>1.0</td>\n",
       "      <td>0.0</td>\n",
       "    </tr>\n",
       "  </tbody>\n",
       "</table>\n",
       "</div>"
      ],
      "text/plain": [
       "   longitude  latitude  housing_median_age  total_rooms  total_bedrooms  \\\n",
       "0   0.211155  0.567481            0.784314     0.095674        0.071388   \n",
       "1   0.212151  0.565356            0.392157     0.773346        0.620573   \n",
       "2   0.210159  0.564293            1.000000     0.159638        0.105677   \n",
       "3   0.209163  0.564293            1.000000     0.138607        0.130972   \n",
       "4   0.209163  0.564293            1.000000     0.177073        0.156268   \n",
       "\n",
       "   population  households  median_income  median_house_value    0    1    2  \\\n",
       "0    0.066251    0.075518       0.864082            0.902266  0.0  0.0  0.0   \n",
       "1    0.498027    0.691839       0.861454            0.708247  0.0  0.0  0.0   \n",
       "2    0.102388    0.106577       0.746174            0.695051  0.0  0.0  0.0   \n",
       "3    0.115265    0.132156       0.567920            0.672783  0.0  0.0  0.0   \n",
       "4    0.116719    0.156516       0.369504            0.674638  0.0  0.0  0.0   \n",
       "\n",
       "     3    4  \n",
       "0  1.0  0.0  \n",
       "1  1.0  0.0  \n",
       "2  1.0  0.0  \n",
       "3  1.0  0.0  \n",
       "4  1.0  0.0  "
      ]
     },
     "execution_count": 157,
     "metadata": {},
     "output_type": "execute_result"
    }
   ],
   "source": [
    "features.head() # i will use the feature scaled by using MinMax Scaler"
   ]
  },
  {
   "cell_type": "code",
   "execution_count": 159,
   "metadata": {},
   "outputs": [],
   "source": [
    "# But it is better to apply feature scaling after we split our dataset\n",
    "X = features.drop('median_house_value' , axis = 1)\n",
    "y=features['median_house_value']"
   ]
  },
  {
   "cell_type": "markdown",
   "metadata": {},
   "source": [
    "# Split the dataset in to a training and testing set"
   ]
  },
  {
   "cell_type": "code",
   "execution_count": 161,
   "metadata": {
    "scrolled": true
   },
   "outputs": [
    {
     "name": "stdout",
     "output_type": "stream",
     "text": [
      "(15796, 13) (3950, 13)\n",
      "(15796,) (3950,)\n"
     ]
    }
   ],
   "source": [
    "from sklearn.model_selection import train_test_split\n",
    "X_train , X_test , y_train , y_test=train_test_split(X , y , test_size = 0.2 , random_state = 0)\n",
    "print(X_train.shape , X_test.shape)\n",
    "print(y_train.shape , y_test.shape)"
   ]
  },
  {
   "cell_type": "code",
   "execution_count": 165,
   "metadata": {},
   "outputs": [
    {
     "name": "stdout",
     "output_type": "stream",
     "text": [
      "[[0.62250996 0.15621679 0.43137255 ... 0.         0.         0.        ]\n",
      " [0.71215139 0.16896918 0.25490196 ... 0.         0.         0.        ]\n",
      " [0.21713147 0.78427205 0.29411765 ... 0.         0.         0.        ]\n",
      " ...\n",
      " [0.64641434 0.1445271  0.31372549 ... 0.         0.         0.        ]\n",
      " [0.63545817 0.13283741 0.64705882 ... 0.         0.         0.        ]\n",
      " [0.53087649 0.30605739 0.76470588 ... 0.         0.         0.        ]]\n",
      "[[0.51446281 0.18191489 0.56862745 ... 0.         0.         1.        ]\n",
      " [0.73243802 0.06382979 0.29411765 ... 0.         0.         0.        ]\n",
      " [0.61053719 0.17340426 0.84313725 ... 0.         0.         0.        ]\n",
      " ...\n",
      " [0.6177686  0.15319149 0.74509804 ... 0.         0.         0.        ]\n",
      " [0.62293388 0.14787234 0.80392157 ... 0.         0.         0.        ]\n",
      " [0.37809917 0.27978723 0.29411765 ... 0.         0.         0.        ]]\n"
     ]
    }
   ],
   "source": [
    "from sklearn.preprocessing import MinMaxScaler\n",
    "scale = MinMaxScaler()\n",
    "X_train = scale.fit_transform(X_train)\n",
    "X_test  = scale.fit_transform(X_test)\n",
    "print(X_train)\n",
    "print(X_test)"
   ]
  },
  {
   "cell_type": "code",
   "execution_count": 168,
   "metadata": {},
   "outputs": [
    {
     "data": {
      "text/html": [
       "<div>\n",
       "<style scoped>\n",
       "    .dataframe tbody tr th:only-of-type {\n",
       "        vertical-align: middle;\n",
       "    }\n",
       "\n",
       "    .dataframe tbody tr th {\n",
       "        vertical-align: top;\n",
       "    }\n",
       "\n",
       "    .dataframe thead th {\n",
       "        text-align: right;\n",
       "    }\n",
       "</style>\n",
       "<table border=\"1\" class=\"dataframe\">\n",
       "  <thead>\n",
       "    <tr style=\"text-align: right;\">\n",
       "      <th></th>\n",
       "      <th>longitude</th>\n",
       "      <th>latitude</th>\n",
       "      <th>housing_median_age</th>\n",
       "      <th>total_rooms</th>\n",
       "      <th>total_bedrooms</th>\n",
       "      <th>population</th>\n",
       "      <th>households</th>\n",
       "      <th>median_income</th>\n",
       "      <th>0</th>\n",
       "      <th>1</th>\n",
       "      <th>2</th>\n",
       "      <th>3</th>\n",
       "      <th>4</th>\n",
       "    </tr>\n",
       "  </thead>\n",
       "  <tbody>\n",
       "    <tr>\n",
       "      <td>0</td>\n",
       "      <td>0.622510</td>\n",
       "      <td>0.156217</td>\n",
       "      <td>0.431373</td>\n",
       "      <td>0.187704</td>\n",
       "      <td>0.325028</td>\n",
       "      <td>0.276843</td>\n",
       "      <td>0.328867</td>\n",
       "      <td>0.092379</td>\n",
       "      <td>1.0</td>\n",
       "      <td>0.0</td>\n",
       "      <td>0.0</td>\n",
       "      <td>0.0</td>\n",
       "      <td>0.0</td>\n",
       "    </tr>\n",
       "    <tr>\n",
       "      <td>1</td>\n",
       "      <td>0.712151</td>\n",
       "      <td>0.168969</td>\n",
       "      <td>0.254902</td>\n",
       "      <td>0.435579</td>\n",
       "      <td>0.401472</td>\n",
       "      <td>0.312773</td>\n",
       "      <td>0.403776</td>\n",
       "      <td>0.321757</td>\n",
       "      <td>0.0</td>\n",
       "      <td>1.0</td>\n",
       "      <td>0.0</td>\n",
       "      <td>0.0</td>\n",
       "      <td>0.0</td>\n",
       "    </tr>\n",
       "    <tr>\n",
       "      <td>2</td>\n",
       "      <td>0.217131</td>\n",
       "      <td>0.784272</td>\n",
       "      <td>0.294118</td>\n",
       "      <td>0.170482</td>\n",
       "      <td>0.172140</td>\n",
       "      <td>0.134787</td>\n",
       "      <td>0.173569</td>\n",
       "      <td>0.155021</td>\n",
       "      <td>0.0</td>\n",
       "      <td>1.0</td>\n",
       "      <td>0.0</td>\n",
       "      <td>0.0</td>\n",
       "      <td>0.0</td>\n",
       "    </tr>\n",
       "    <tr>\n",
       "      <td>3</td>\n",
       "      <td>0.373506</td>\n",
       "      <td>0.511158</td>\n",
       "      <td>0.647059</td>\n",
       "      <td>0.187486</td>\n",
       "      <td>0.177803</td>\n",
       "      <td>0.187124</td>\n",
       "      <td>0.190621</td>\n",
       "      <td>0.217023</td>\n",
       "      <td>0.0</td>\n",
       "      <td>1.0</td>\n",
       "      <td>0.0</td>\n",
       "      <td>0.0</td>\n",
       "      <td>0.0</td>\n",
       "    </tr>\n",
       "    <tr>\n",
       "      <td>4</td>\n",
       "      <td>0.227092</td>\n",
       "      <td>0.579171</td>\n",
       "      <td>0.529412</td>\n",
       "      <td>0.360584</td>\n",
       "      <td>0.323896</td>\n",
       "      <td>0.375493</td>\n",
       "      <td>0.362363</td>\n",
       "      <td>0.446125</td>\n",
       "      <td>0.0</td>\n",
       "      <td>0.0</td>\n",
       "      <td>0.0</td>\n",
       "      <td>1.0</td>\n",
       "      <td>0.0</td>\n",
       "    </tr>\n",
       "  </tbody>\n",
       "</table>\n",
       "</div>"
      ],
      "text/plain": [
       "   longitude  latitude  housing_median_age  total_rooms  total_bedrooms  \\\n",
       "0   0.622510  0.156217            0.431373     0.187704        0.325028   \n",
       "1   0.712151  0.168969            0.254902     0.435579        0.401472   \n",
       "2   0.217131  0.784272            0.294118     0.170482        0.172140   \n",
       "3   0.373506  0.511158            0.647059     0.187486        0.177803   \n",
       "4   0.227092  0.579171            0.529412     0.360584        0.323896   \n",
       "\n",
       "   population  households  median_income    0    1    2    3    4  \n",
       "0    0.276843    0.328867       0.092379  1.0  0.0  0.0  0.0  0.0  \n",
       "1    0.312773    0.403776       0.321757  0.0  1.0  0.0  0.0  0.0  \n",
       "2    0.134787    0.173569       0.155021  0.0  1.0  0.0  0.0  0.0  \n",
       "3    0.187124    0.190621       0.217023  0.0  1.0  0.0  0.0  0.0  \n",
       "4    0.375493    0.362363       0.446125  0.0  0.0  0.0  1.0  0.0  "
      ]
     },
     "execution_count": 168,
     "metadata": {},
     "output_type": "execute_result"
    }
   ],
   "source": [
    "# changing the numpy X_train to a pandas dataframe\n",
    "X_train=pd.DataFrame(X_train , columns = X.columns)\n",
    "X_train.head()"
   ]
  },
  {
   "cell_type": "code",
   "execution_count": 169,
   "metadata": {},
   "outputs": [
    {
     "data": {
      "text/html": [
       "<div>\n",
       "<style scoped>\n",
       "    .dataframe tbody tr th:only-of-type {\n",
       "        vertical-align: middle;\n",
       "    }\n",
       "\n",
       "    .dataframe tbody tr th {\n",
       "        vertical-align: top;\n",
       "    }\n",
       "\n",
       "    .dataframe thead th {\n",
       "        text-align: right;\n",
       "    }\n",
       "</style>\n",
       "<table border=\"1\" class=\"dataframe\">\n",
       "  <thead>\n",
       "    <tr style=\"text-align: right;\">\n",
       "      <th></th>\n",
       "      <th>longitude</th>\n",
       "      <th>latitude</th>\n",
       "      <th>housing_median_age</th>\n",
       "      <th>total_rooms</th>\n",
       "      <th>total_bedrooms</th>\n",
       "      <th>population</th>\n",
       "      <th>households</th>\n",
       "      <th>median_income</th>\n",
       "      <th>0</th>\n",
       "      <th>1</th>\n",
       "      <th>2</th>\n",
       "      <th>3</th>\n",
       "      <th>4</th>\n",
       "    </tr>\n",
       "  </thead>\n",
       "  <tbody>\n",
       "    <tr>\n",
       "      <td>0</td>\n",
       "      <td>0.514463</td>\n",
       "      <td>0.181915</td>\n",
       "      <td>0.568627</td>\n",
       "      <td>0.319834</td>\n",
       "      <td>0.463442</td>\n",
       "      <td>0.339737</td>\n",
       "      <td>0.458462</td>\n",
       "      <td>0.240465</td>\n",
       "      <td>0.0</td>\n",
       "      <td>0.0</td>\n",
       "      <td>0.0</td>\n",
       "      <td>0.0</td>\n",
       "      <td>1.0</td>\n",
       "    </tr>\n",
       "    <tr>\n",
       "      <td>1</td>\n",
       "      <td>0.732438</td>\n",
       "      <td>0.063830</td>\n",
       "      <td>0.294118</td>\n",
       "      <td>0.121275</td>\n",
       "      <td>0.109674</td>\n",
       "      <td>0.156609</td>\n",
       "      <td>0.106462</td>\n",
       "      <td>0.502482</td>\n",
       "      <td>1.0</td>\n",
       "      <td>0.0</td>\n",
       "      <td>0.0</td>\n",
       "      <td>0.0</td>\n",
       "      <td>0.0</td>\n",
       "    </tr>\n",
       "    <tr>\n",
       "      <td>2</td>\n",
       "      <td>0.610537</td>\n",
       "      <td>0.173404</td>\n",
       "      <td>0.843137</td>\n",
       "      <td>0.172034</td>\n",
       "      <td>0.217098</td>\n",
       "      <td>0.172061</td>\n",
       "      <td>0.206154</td>\n",
       "      <td>0.321355</td>\n",
       "      <td>1.0</td>\n",
       "      <td>0.0</td>\n",
       "      <td>0.0</td>\n",
       "      <td>0.0</td>\n",
       "      <td>0.0</td>\n",
       "    </tr>\n",
       "    <tr>\n",
       "      <td>3</td>\n",
       "      <td>0.989669</td>\n",
       "      <td>0.111702</td>\n",
       "      <td>0.529412</td>\n",
       "      <td>0.181203</td>\n",
       "      <td>0.179415</td>\n",
       "      <td>0.137398</td>\n",
       "      <td>0.154462</td>\n",
       "      <td>0.273187</td>\n",
       "      <td>0.0</td>\n",
       "      <td>1.0</td>\n",
       "      <td>0.0</td>\n",
       "      <td>0.0</td>\n",
       "      <td>0.0</td>\n",
       "    </tr>\n",
       "    <tr>\n",
       "      <td>4</td>\n",
       "      <td>0.180785</td>\n",
       "      <td>0.554255</td>\n",
       "      <td>1.000000</td>\n",
       "      <td>0.199432</td>\n",
       "      <td>0.187289</td>\n",
       "      <td>0.210274</td>\n",
       "      <td>0.204308</td>\n",
       "      <td>0.403320</td>\n",
       "      <td>0.0</td>\n",
       "      <td>0.0</td>\n",
       "      <td>0.0</td>\n",
       "      <td>1.0</td>\n",
       "      <td>0.0</td>\n",
       "    </tr>\n",
       "  </tbody>\n",
       "</table>\n",
       "</div>"
      ],
      "text/plain": [
       "   longitude  latitude  housing_median_age  total_rooms  total_bedrooms  \\\n",
       "0   0.514463  0.181915            0.568627     0.319834        0.463442   \n",
       "1   0.732438  0.063830            0.294118     0.121275        0.109674   \n",
       "2   0.610537  0.173404            0.843137     0.172034        0.217098   \n",
       "3   0.989669  0.111702            0.529412     0.181203        0.179415   \n",
       "4   0.180785  0.554255            1.000000     0.199432        0.187289   \n",
       "\n",
       "   population  households  median_income    0    1    2    3    4  \n",
       "0    0.339737    0.458462       0.240465  0.0  0.0  0.0  0.0  1.0  \n",
       "1    0.156609    0.106462       0.502482  1.0  0.0  0.0  0.0  0.0  \n",
       "2    0.172061    0.206154       0.321355  1.0  0.0  0.0  0.0  0.0  \n",
       "3    0.137398    0.154462       0.273187  0.0  1.0  0.0  0.0  0.0  \n",
       "4    0.210274    0.204308       0.403320  0.0  0.0  0.0  1.0  0.0  "
      ]
     },
     "execution_count": 169,
     "metadata": {},
     "output_type": "execute_result"
    }
   ],
   "source": [
    "# changing the numpy X_test in to a pandas dataframe\n",
    "X_test=pd.DataFrame(X_test , columns = X.columns)\n",
    "X_test.head()"
   ]
  },
  {
   "cell_type": "code",
   "execution_count": null,
   "metadata": {},
   "outputs": [],
   "source": []
  }
 ],
 "metadata": {
  "kernelspec": {
   "display_name": "Python 3",
   "language": "python",
   "name": "python3"
  },
  "language_info": {
   "codemirror_mode": {
    "name": "ipython",
    "version": 3
   },
   "file_extension": ".py",
   "mimetype": "text/x-python",
   "name": "python",
   "nbconvert_exporter": "python",
   "pygments_lexer": "ipython3",
   "version": "3.7.4"
  }
 },
 "nbformat": 4,
 "nbformat_minor": 2
}
